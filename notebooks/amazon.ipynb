{
 "cells": [
  {
   "cell_type": "code",
   "execution_count": 1,
   "metadata": {},
   "outputs": [],
   "source": [
    "import string\n",
    "import numpy as np\n",
    "import networkx\n",
    "from tqdm import tqdm\n",
    "import matplotlib.pyplot as plt\n",
    "import networkx as nx\n",
    "from collections import Counter\n",
    "import itertools\n",
    "import sys\n",
    "sys.path.append('..')"
   ]
  },
  {
   "cell_type": "code",
   "execution_count": 2,
   "metadata": {},
   "outputs": [],
   "source": [
    "def parse_amazon(path='../datasets/amazon-meta.txt'):\n",
    "    fhr = open(path, 'r', encoding='utf-8', errors='ignore')\n",
    "    amazonProducts = {}\n",
    "    (Id, ASIN, Copurchased) = (\"\", \"\", \"\")\n",
    "    for line in tqdm(fhr):\n",
    "        line = line.strip()\n",
    "        # a product block started\n",
    "        if(line.startswith(\"Id\")):\n",
    "            Id = line[3:].strip()\n",
    "        elif(line.startswith(\"ASIN\")):\n",
    "            ASIN = line[5:].strip()\n",
    "        elif(line.startswith(\"similar\")):\n",
    "            ls = line.split()\n",
    "            Copurchased = ' '.join([c for c in ls[2:]])\n",
    "        elif (line==\"\"):\n",
    "            try:\n",
    "                MetaData = {}\n",
    "                if (ASIN != \"\"):\n",
    "                    amazonProducts[ASIN]=MetaData\n",
    "                MetaData['Copurchased'] = Copurchased\n",
    "            except NameError:\n",
    "                continue\n",
    "            (Id, ASIN, Copurchased) = (\"\", \"\", \"\")\n",
    "    fhr.close()\n",
    "    for asin, metadata in tqdm(amazonProducts.items()): \n",
    "        amazonProducts[asin]['Copurchased'] = \\\n",
    "        ' '.join([cp for cp in metadata['Copurchased'].split() \\\n",
    "            if cp in amazonProducts.keys()])\n",
    "    copurchaseGraph = networkx.Graph()\n",
    "    for asin,metadata in tqdm(amazonProducts.items()):\n",
    "        copurchaseGraph.add_node(asin)\n",
    "        for a in metadata['Copurchased'].split():\n",
    "            copurchaseGraph.add_node(a.strip())\n",
    "            similarity = 0        \n",
    "            copurchaseGraph.add_edge(asin, a.strip())\n",
    "    return copurchaseGraph"
   ]
  },
  {
   "cell_type": "code",
   "execution_count": 3,
   "metadata": {},
   "outputs": [
    {
     "name": "stderr",
     "output_type": "stream",
     "text": [
      "15010574it [00:54, 275260.96it/s]\n",
      "100%|██████████| 548552/548552 [00:05<00:00, 92886.00it/s] \n",
      "100%|██████████| 548552/548552 [00:19<00:00, 27760.07it/s]\n"
     ]
    },
    {
     "name": "stdout",
     "output_type": "stream",
     "text": [
      "CPU times: user 1min 5s, sys: 3.95 s, total: 1min 9s\n",
      "Wall time: 1min 20s\n"
     ]
    }
   ],
   "source": [
    "%%time\n",
    "\n",
    "g_amazon = parse_amazon()"
   ]
  },
  {
   "cell_type": "code",
   "execution_count": 4,
   "metadata": {},
   "outputs": [
    {
     "data": {
      "text/plain": [
       "(548552, 987942)"
      ]
     },
     "execution_count": 4,
     "metadata": {},
     "output_type": "execute_result"
    }
   ],
   "source": [
    "g_amazon.number_of_nodes(), g_amazon.number_of_edges()"
   ]
  },
  {
   "cell_type": "code",
   "execution_count": 5,
   "metadata": {},
   "outputs": [
    {
     "name": "stderr",
     "output_type": "stream",
     "text": [
      "100%|██████████| 987942/987942 [00:29<00:00, 34028.24it/s]\n"
     ]
    },
    {
     "name": "stdout",
     "output_type": "stream",
     "text": [
      "pearson: (0.039587708754383125, 0.0)\n",
      "spearman: SpearmanrResult(correlation=0.06565549402832843, pvalue=0.0)\n",
      "kendall: KendalltauResult(correlation=0.04715336844036409, pvalue=0.0)\n"
     ]
    }
   ],
   "source": [
    "from scipy.stats import spearmanr, pearsonr, kendalltau\n",
    "\n",
    "def assort_koefs(graph):\n",
    "    x, y = [], []\n",
    "    for e1, e2 in tqdm(graph.edges):\n",
    "        x.append(graph.degree(e1))\n",
    "        y.append(graph.degree(e2))\n",
    "    print(\"pearson:\", pearsonr(x, y))\n",
    "    print(\"spearman:\", spearmanr(x, y))\n",
    "    print(\"kendall:\", kendalltau(x, y))\n",
    "    \n",
    "assort_koefs(g_amazon)"
   ]
  },
  {
   "cell_type": "code",
   "execution_count": 6,
   "metadata": {},
   "outputs": [
    {
     "data": {
      "image/png": "[encoded data removed]",
      "text/plain": [
       "<Figure size 432x288 with 1 Axes>"
      ]
     },
     "metadata": {},
     "output_type": "display_data"
    }
   ],
   "source": [
    "from src.utils import assort_plot\n",
    "\n",
    "assort_plot(g_amazon)"
   ]
  },
  {
   "cell_type": "code",
   "execution_count": 7,
   "metadata": {},
   "outputs": [
    {
     "data": {
      "text/plain": [
       "(array([257367., 185538.,  58084.,  22133.,  10294.,   5368.,   3014.,\n",
       "          1932.,   1285.,   3537.]),\n",
       " array([ 0.,  3.,  6.,  9., 12., 15., 18., 21., 24., 27., 30.]),\n",
       " <a list of 10 Patch objects>)"
      ]
     },
     "execution_count": 7,
     "metadata": {},
     "output_type": "execute_result"
    },
    {
     "data": {
      "image/png": "[encoded data removed]",
      "text/plain": [
       "<Figure size 432x288 with 1 Axes>"
      ]
     },
     "metadata": {},
     "output_type": "display_data"
    }
   ],
   "source": [
    "plt.hist([min(30, g_amazon.degree(i)) for i in g_amazon.nodes()])"
   ]
  },
  {
   "cell_type": "code",
   "execution_count": 8,
   "metadata": {},
   "outputs": [],
   "source": [
    "from networkx.algorithms.components import connected_components\n",
    "\n",
    "def components(graph, max_c_size=20):\n",
    "    comps = []\n",
    "    for c in connected_components(graph):\n",
    "        comps.append(c)\n",
    "    sizes = sorted([len(i) for i in comps])[::-1]\n",
    "    print(sizes[:10])\n",
    "    #plt.hist([min(i, 15) for i in sizes])"
   ]
  },
  {
   "cell_type": "code",
   "execution_count": 9,
   "metadata": {},
   "outputs": [
    {
     "name": "stdout",
     "output_type": "stream",
     "text": [
      "[334859, 222, 184, 131, 101, 90, 86, 79, 78, 75]\n"
     ]
    }
   ],
   "source": [
    "components(g_amazon)"
   ]
  },
  {
   "cell_type": "code",
   "execution_count": 10,
   "metadata": {},
   "outputs": [
    {
     "name": "stdout",
     "output_type": "stream",
     "text": [
      "[12970, 11, 3, 3, 3, 3, 3, 2, 2, 2]\n"
     ]
    }
   ],
   "source": [
    "del g_amazon\n",
    "from src.utils import parse_6dfb\n",
    "\n",
    "g_6dfb = parse_6dfb()\n",
    "components(g_6dfb)"
   ]
  },
  {
   "cell_type": "code",
   "execution_count": 11,
   "metadata": {},
   "outputs": [],
   "source": [
    "del g_6dfb"
   ]
  },
  {
   "cell_type": "code",
   "execution_count": 12,
   "metadata": {},
   "outputs": [
    {
     "name": "stdout",
     "output_type": "stream",
     "text": [
      "[87349, 17, 16, 14, 12, 12, 11, 11, 11, 11]\n"
     ]
    }
   ],
   "source": [
    "from src.utils import parse_twitter\n",
    "g_twitter = parse_twitter()\n",
    "components(g_twitter)"
   ]
  }
 ],
 "metadata": {
  "kernelspec": {
   "display_name": "Python 3",
   "language": "python",
   "name": "python3"
  },
  "language_info": {
   "codemirror_mode": {
    "name": "ipython",
    "version": 3
   },
   "file_extension": ".py",
   "mimetype": "text/x-python",
   "name": "python",
   "nbconvert_exporter": "python",
   "pygments_lexer": "ipython3",
   "version": "3.6.7"
  }
 },
 "nbformat": 4,
 "nbformat_minor": 2
}
