{
 "cells": [
  {
   "cell_type": "code",
   "execution_count": 1,
   "metadata": {},
   "outputs": [],
   "source": [
    "import numpy as np\n",
    "from pickle import load, dump\n",
    "\n",
    "def read_matrix(path):\n",
    "    matrix = []\n",
    "    for line in open(path, \"r\"):\n",
    "        matrix.append(list(map(float, line.split())))\n",
    "    matrix = np.array(matrix)\n",
    "    return matrix\n",
    "\n",
    "m_6dfb = read_matrix(\"../datasets/6dfb_mat\")\n",
    "m_amazon = read_matrix(\"../tmp_files/amazon_mat\")\n",
    "m_twitter = read_matrix(\"../tmp_files/tw_mat0\")"
   ]
  },
  {
   "cell_type": "code",
   "execution_count": 3,
   "metadata": {},
   "outputs": [
    {
     "ename": "SyntaxError",
     "evalue": "invalid syntax (<ipython-input-3-0806274ba4fe>, line 9)",
     "output_type": "error",
     "traceback": [
      "\u001b[0;36m  File \u001b[0;32m\"<ipython-input-3-0806274ba4fe>\"\u001b[0;36m, line \u001b[0;32m9\u001b[0m\n\u001b[0;31m    del obj\u001b[0m\n\u001b[0m      ^\u001b[0m\n\u001b[0;31mSyntaxError\u001b[0m\u001b[0;31m:\u001b[0m invalid syntax\n"
     ]
    }
   ],
   "source": [
    "# amazon\n",
    "\n",
    "f = open(\"../tmp_files/amazon_cd.pickle\", \"rb\")\n",
    "while True:\n",
    "    try:\n",
    "        obj = load(f)\n",
    "        csizes = obj[1]\n",
    "        print(len([i for i in csizes if i > 1]))\n",
    "        del obj\n",
    "    except BaseException as exp:\n",
    "        print(exp)"
   ]
  },
  {
   "cell_type": "code",
   "execution_count": null,
   "metadata": {},
   "outputs": [],
   "source": []
  }
 ],
 "metadata": {
  "kernelspec": {
   "display_name": "Python 3",
   "language": "python",
   "name": "python3"
  },
  "language_info": {
   "codemirror_mode": {
    "name": "ipython",
    "version": 3
   },
   "file_extension": ".py",
   "mimetype": "text/x-python",
   "name": "python",
   "nbconvert_exporter": "python",
   "pygments_lexer": "ipython3",
   "version": "3.6.7"
  }
 },
 "nbformat": 4,
 "nbformat_minor": 2
}
