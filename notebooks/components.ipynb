{
 "cells": [
  {
   "cell_type": "code",
   "execution_count": 1,
   "metadata": {},
   "outputs": [],
   "source": [
    "from networkx.algorithms.components import connected_components\n",
    "from scipy.stats import normaltest\n",
    "from pickle import dump\n",
    "\n",
    "def comp_sizes(graph, max_c_size=20):\n",
    "    comps = []\n",
    "    for c in connected_components(graph):\n",
    "        comps.append(len(c))\n",
    "    return comps"
   ]
  },
  {
   "cell_type": "code",
   "execution_count": 4,
   "metadata": {},
   "outputs": [],
   "source": [
    "import sys\n",
    "sys.path.append('../src')\n",
    "from utils import parse_twitter, parse_6dfb\n",
    "from tqdm import tqdm\n",
    "import networkx\n",
    "\n",
    "def parse_amazon(path='../datasets/amazon-meta.txt'):\n",
    "    fhr = open(path, 'r', encoding='utf-8', errors='ignore')\n",
    "    amazonProducts = {}\n",
    "    (Id, ASIN, Copurchased) = (\"\", \"\", \"\")\n",
    "    for line in tqdm(fhr):\n",
    "        line = line.strip()\n",
    "        # a product block started\n",
    "        if(line.startswith(\"Id\")):\n",
    "            Id = line[3:].strip()\n",
    "        elif(line.startswith(\"ASIN\")):\n",
    "            ASIN = line[5:].strip()\n",
    "        elif(line.startswith(\"similar\")):\n",
    "            ls = line.split()\n",
    "            Copurchased = ' '.join([c for c in ls[2:]])\n",
    "        elif (line==\"\"):\n",
    "            try:\n",
    "                MetaData = {}\n",
    "                if (ASIN != \"\"):\n",
    "                    amazonProducts[ASIN]=MetaData\n",
    "                MetaData['Copurchased'] = Copurchased\n",
    "            except NameError:\n",
    "                continue\n",
    "            (Id, ASIN, Copurchased) = (\"\", \"\", \"\")\n",
    "    fhr.close()\n",
    "    for asin, metadata in tqdm(amazonProducts.items()): \n",
    "        amazonProducts[asin]['Copurchased'] = \\\n",
    "        ' '.join([cp for cp in metadata['Copurchased'].split() \\\n",
    "            if cp in amazonProducts.keys()])\n",
    "    copurchaseGraph = networkx.Graph()\n",
    "    for asin,metadata in tqdm(amazonProducts.items()):\n",
    "        copurchaseGraph.add_node(asin)\n",
    "        for a in metadata['Copurchased'].split():\n",
    "            copurchaseGraph.add_node(a.strip())\n",
    "            similarity = 0        \n",
    "            copurchaseGraph.add_edge(asin, a.strip())\n",
    "    return copurchaseGraph"
   ]
  },
  {
   "cell_type": "code",
   "execution_count": 5,
   "metadata": {},
   "outputs": [
    {
     "name": "stderr",
     "output_type": "stream",
     "text": [
      "15010574it [00:46, 321383.37it/s]\n",
      "100%|██████████| 548552/548552 [00:04<00:00, 111049.93it/s]\n",
      "100%|██████████| 548552/548552 [00:16<00:00, 32430.54it/s]\n"
     ]
    }
   ],
   "source": [
    "cs_amazon = comp_sizes(parse_amazon())"
   ]
  },
  {
   "cell_type": "code",
   "execution_count": 6,
   "metadata": {},
   "outputs": [],
   "source": [
    "cs_twitter = comp_sizes(parse_twitter())"
   ]
  },
  {
   "cell_type": "code",
   "execution_count": 7,
   "metadata": {},
   "outputs": [],
   "source": [
    "cs_6dfb = comp_sizes(parse_6dfb())"
   ]
  },
  {
   "cell_type": "code",
   "execution_count": 8,
   "metadata": {},
   "outputs": [
    {
     "name": "stdout",
     "output_type": "stream",
     "text": [
      "187565\n",
      "22878\n",
      "2792\n"
     ]
    }
   ],
   "source": [
    "cs_list = [cs_amazon, cs_twitter, cs_6dfb]\n",
    "for i in cs_list:\n",
    "    print(len(i))"
   ]
  },
  {
   "cell_type": "code",
   "execution_count": 12,
   "metadata": {},
   "outputs": [],
   "source": [
    "with open(\"../tmp_files/cmp_sizes.bin\", \"wb\") as f:\n",
    "    dump(cs_amazon, f)\n",
    "    dump(cs_6dfb, f)\n",
    "    dump(cs_twitter, f)"
   ]
  },
  {
   "cell_type": "code",
   "execution_count": 10,
   "metadata": {},
   "outputs": [
    {
     "name": "stdout",
     "output_type": "stream",
     "text": [
      "NormaltestResult(statistic=1132042.4563803389, pvalue=0.0)\n",
      "NormaltestResult(statistic=103203.36699831608, pvalue=0.0)\n",
      "NormaltestResult(statistic=9048.345824934895, pvalue=0.0)\n"
     ]
    }
   ],
   "source": [
    "for i in cs_list:  \n",
    "    print(normaltest(i))"
   ]
  },
  {
   "cell_type": "code",
   "execution_count": 11,
   "metadata": {},
   "outputs": [
    {
     "name": "stdout",
     "output_type": "stream",
     "text": [
      "NormaltestResult(statistic=1132042.4563803384, pvalue=0.0)\n",
      "NormaltestResult(statistic=103203.36699831608, pvalue=0.0)\n",
      "NormaltestResult(statistic=9048.345824934897, pvalue=0.0)\n"
     ]
    }
   ],
   "source": [
    "import numpy as np\n",
    "for i in cs_list:\n",
    "    i = np.array(i)\n",
    "    i = (i - i.mean()) / i.std()\n",
    "    print(normaltest(i))"
   ]
  }
 ],
 "metadata": {
  "kernelspec": {
   "display_name": "Python 3",
   "language": "python",
   "name": "python3"
  },
  "language_info": {
   "codemirror_mode": {
    "name": "ipython",
    "version": 3
   },
   "file_extension": ".py",
   "mimetype": "text/x-python",
   "name": "python",
   "nbconvert_exporter": "python",
   "pygments_lexer": "ipython3",
   "version": "3.6.7"
  }
 },
 "nbformat": 4,
 "nbformat_minor": 2
}
