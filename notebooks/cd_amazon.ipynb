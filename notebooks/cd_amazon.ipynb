{
 "cells": [
  {
   "cell_type": "code",
   "execution_count": 1,
   "metadata": {},
   "outputs": [],
   "source": [
    "import networkx as nx\n",
    "import matplotlib.pyplot as plt\n",
    "%matplotlib inline\n",
    "\n",
    "from tqdm import tqdm\n",
    "from collections import Counter\n",
    "from pickle import dump\n",
    "\n",
    "import sys\n",
    "sys.path.append('../src')\n",
    "from utils import w_label_prop\n",
    "from quality_functions import eval_functions\n",
    "from parse_data import parse_amazon\n",
    "\n",
    "def read_graph(path=\"../datasets/fb_dg_gabr\"):\n",
    "    graph = nx.Graph()\n",
    "    for i in range(N_NODES):\n",
    "        graph.add_node(i)\n",
    "    for v, line in enumerate(open(path)):\n",
    "        edges = map(int, line.split())\n",
    "        for u in edges:\n",
    "            graph.add_edge(v, u)\n",
    "    return graph\n",
    "\n",
    "def get_comm_sizes_samples(graph, n_samples=2, verbose=True):\n",
    "    ans = []\n",
    "    deltas = []\n",
    "    for i in tqdm(range(n_samples)):\n",
    "        labels, cur_deltas = w_label_prop(graph)\n",
    "        deltas.append(cur_deltas)\n",
    "        comm_sizes = list(Counter(labels).values())\n",
    "        ans.append(comm_sizes)\n",
    "        if i < 5 and verbose:\n",
    "            print(len(comm_sizes))\n",
    "            top_sizes = sorted(comm_sizes)[::-1][:min(len(comm_sizes, 5))]\n",
    "            print(top_sizes)\n",
    "    return ans, deltas\n",
    "\n",
    "graph_types = [\n",
    "    'eps',\n",
    "    'knn', \n",
    "    'inf'\n",
    "]\n",
    "\n",
    "f = open('../tmp_files/amazon_cd', \"wb\")"
   ]
  },
  {
   "cell_type": "code",
   "execution_count": 2,
   "metadata": {
    "scrolled": false
   },
   "outputs": [
    {
     "name": "stderr",
     "output_type": "stream",
     "text": [
      "297it [00:00, 2842.94it/s]"
     ]
    },
    {
     "name": "stdout",
     "output_type": "stream",
     "text": [
      "CONN\n"
     ]
    },
    {
     "name": "stderr",
     "output_type": "stream",
     "text": [
      "15010574it [00:51, 289038.73it/s]\n",
      "100%|██████████| 548552/548552 [00:04<00:00, 114870.53it/s]\n",
      "100%|██████████| 548552/548552 [00:19<00:00, 28712.28it/s]\n"
     ]
    },
    {
     "name": "stdout",
     "output_type": "stream",
     "text": [
      "N_nodes: 548552\n",
      "N_edges: 987942\n",
      "Ratio: 1.8009997229068528\n",
      "conn 229.16251301765442\n",
      "EPS\n",
      "N_nodes: 548552\n",
      "N_edges: 3892707\n",
      "Ratio: 7.096331797167816\n",
      "eps 448.1566860675812\n",
      "INF\n",
      "N_nodes: 548553\n",
      "N_edges: 1547577\n",
      "Ratio: 2.821198680893186\n",
      "inf 313.81835436820984\n"
     ]
    }
   ],
   "source": [
    "from time import time\n",
    "\n",
    "all_deltas = []\n",
    "\n",
    "for fname in ['conn'] + graph_types:\n",
    "    t_begin = time()\n",
    "    print(fname.upper())\n",
    "    if fname == 'conn':\n",
    "        graph = parse_amazon()\n",
    "    else:\n",
    "        graph = read_graph('../datasets/amazon_%s.graph' % fname)\n",
    "    N_NODES = graph.number_of_nodes()\n",
    "    print(\"N_nodes:\", graph.number_of_nodes())\n",
    "    print(\"N_edges:\", graph.number_of_edges())\n",
    "    print(\"Ratio:\", graph.number_of_edges() / graph.number_of_nodes())\n",
    "    labels, deltas = w_label_prop(graph)\n",
    "    all_deltas.append(deltas)\n",
    "    dump((labels, graph), f)\n",
    "    del labels\n",
    "    del graph\n",
    "    print('time', time() - t_begin)\n",
    "    \n",
    "\"\"\"\n",
    "KNN\n",
    "N_nodes: 548553\n",
    "N_edges: 2542747\n",
    "Ratio: 4.63537160493152\n",
    "time 451.4027636051178\n",
    "\"\"\"\n",
    "f.close()"
   ]
  },
  {
   "cell_type": "code",
   "execution_count": 15,
   "metadata": {},
   "outputs": [
    {
     "name": "stdout",
     "output_type": "stream",
     "text": [
      "conn\n",
      "comm [913, 813, 579, 522, 516, 433, 429, 422, 404, 353]\n",
      "comp [334859, 222, 184, 131, 101, 90, 86, 79, 78, 75]\n",
      "13.94341492652893\n",
      "eps\n",
      "comm [72687, 21382, 11910, 8076, 7341, 2993, 1924, 1754, 1715, 1406]\n",
      "comp [155470, 101308, 25602, 12155, 3686, 3347, 2215, 924, 855, 756]\n",
      "36.500447273254395\n",
      "knn\n",
      "comm [731, 716, 505, 455, 443, 428, 410, 388, 379, 361]\n",
      "comp [369356, 95834, 43104, 5946, 61, 52, 48, 44, 26, 24]\n",
      "20.1483051776886\n",
      "inf\n",
      "comm [193, 188, 175, 174, 168, 159, 159, 155, 154, 152]\n",
      "comp [548364, 41, 40, 35, 26, 24, 13, 10]\n",
      "27.393975734710693\n",
      "Ran out of input\n"
     ]
    }
   ],
   "source": [
    "from pickle import load\n",
    "\n",
    "from networkx.algorithms.components import connected_components\n",
    "\n",
    "def comp_sizes(graph):\n",
    "    comps = []\n",
    "    for c in connected_components(graph):\n",
    "        comps.append(len(c))\n",
    "    return comps\n",
    "\n",
    "def top_k(array, k=10):\n",
    "    return sorted(array)[::-1][: min(k, len(array))]\n",
    "\n",
    "\n",
    "all_graph_types = ['conn', 'eps', 'knn', 'inf']\n",
    "cur_ind = 0\n",
    "with open(\"../tmp_files/amazon_cd\", \"rb\") as f_in:\n",
    "    with open(\"../tmp_files/amazon_cd.pickle\", \"wb\") as f_out:\n",
    "        while True:\n",
    "            try:\n",
    "                t_begin = time()\n",
    "                labels, graph = load(f_in)\n",
    "                print(all_graph_types[cur_ind].upper())\n",
    "                cur_ind += 1\n",
    "                comm_sizes = list(Counter(labels).values())\n",
    "                cmp_sizes = comp_sizes(graph)\n",
    "                print(\"comm\", top_k(comm_sizes))\n",
    "                print(\"comp\", top_k(cmp_sizes))\n",
    "                dump((graph, comm_sizes, cmp_sizes), f_out)\n",
    "                del graph\n",
    "                del comm_sizes, cmp_sizes\n",
    "                print(time() - t_begin)\n",
    "            except BaseException as ex:\n",
    "                print(ex)\n",
    "                break"
   ]
  }
 ],
 "metadata": {
  "kernelspec": {
   "display_name": "Python 3",
   "language": "python",
   "name": "python3"
  },
  "language_info": {
   "codemirror_mode": {
    "name": "ipython",
    "version": 3
   },
   "file_extension": ".py",
   "mimetype": "text/x-python",
   "name": "python",
   "nbconvert_exporter": "python",
   "pygments_lexer": "ipython3",
   "version": "3.6.7"
  }
 },
 "nbformat": 4,
 "nbformat_minor": 2
}
