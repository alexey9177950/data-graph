{
 "cells": [
  {
   "cell_type": "code",
   "execution_count": 1,
   "metadata": {},
   "outputs": [
    {
     "data": {
      "text/plain": [
       "Index(['SDFB Person ID', 'ODNB ID', 'Display Name', 'Prefix', 'First Name',\n",
       "       'Last Name', 'Suffix', 'Title', 'All Search Names', 'Gender',\n",
       "       'Historical Significance', 'Birth Year Type', 'Extant Birth Year',\n",
       "       'Alternate Birth Year', 'Death Year Type', 'Extant Death Year',\n",
       "       'Alternate Death Year', 'Group List'],\n",
       "      dtype='object')"
      ]
     },
     "execution_count": 1,
     "metadata": {},
     "output_type": "execute_result"
    }
   ],
   "source": [
    "import os\n",
    "import pandas as pd\n",
    "import numpy as np\n",
    "\n",
    "data_6dfb = pd.read_csv('../datasets/6dfb/SDFB_people.csv')\n",
    "data_6dfb.columns"
   ]
  },
  {
   "cell_type": "code",
   "execution_count": 2,
   "metadata": {},
   "outputs": [
    {
     "data": {
      "text/plain": [
       "(374, 172)"
      ]
     },
     "execution_count": 2,
     "metadata": {},
     "output_type": "execute_result"
    }
   ],
   "source": [
    "from collections import Counter\n",
    "\n",
    "def count_not_nan(array):\n",
    "    return sum(int(type(i) == str) for i in array)\n",
    "\n",
    "count_not_nan(data_6dfb.Suffix), count_not_nan(data_6dfb.Title)"
   ]
  },
  {
   "cell_type": "code",
   "execution_count": 3,
   "metadata": {},
   "outputs": [
    {
     "data": {
      "text/plain": [
       "male      12706\n",
       "female     3093\n",
       "other         2\n",
       "Name: Gender, dtype: int64"
      ]
     },
     "execution_count": 3,
     "metadata": {},
     "output_type": "execute_result"
    }
   ],
   "source": [
    "data_6dfb.Gender.value_counts()"
   ]
  },
  {
   "cell_type": "code",
   "execution_count": 4,
   "metadata": {},
   "outputs": [
    {
     "data": {
      "text/plain": [
       "Church of England clergyman                                                             408\n",
       "politician                                                                              335\n",
       "judge                                                                                   230\n",
       "poet                                                                                    210\n",
       "physician                                                                               195\n",
       "clergyman and ejected minister                                                          154\n",
       "army officer                                                                            143\n",
       "naval officer                                                                           129\n",
       "nobleman                                                                                112\n",
       "Jesuit                                                                                  106\n",
       "college head                                                                            101\n",
       "courtier                                                                                100\n",
       "antiquary                                                                                91\n",
       "royalist army officer                                                                    91\n",
       "merchant                                                                                 80\n",
       "Roman Catholic priest                                                                    74\n",
       "administrator                                                                            74\n",
       "Church of Scotland minister                                                              72\n",
       "Church of England clergyman and author                                                   71\n",
       "translator                                                                               69\n",
       "lawyer                                                                                   66\n",
       "writer                                                                                   64\n",
       "printer                                                                                  62\n",
       "colonial governor                                                                        58\n",
       "Presbyterian minister                                                                    58\n",
       "playwright                                                                               57\n",
       "lawyer and politician                                                                    57\n",
       "diplomat                                                                                 56\n",
       "soldier                                                                                  56\n",
       "composer                                                                                 56\n",
       "                                                                                       ... \n",
       "Coptic scholar                                                                            1\n",
       "Scottish Renaissance humanist, abbot of Kinloss, and Roman Catholic bishop of Orkney      1\n",
       "lawyer and writer on politics                                                             1\n",
       "supposed traitor                                                                          1\n",
       "diarist and patron of clergy                                                              1\n",
       "ejected minister and historian of dissent                                                 1\n",
       "public official and pamphleteer in America                                                1\n",
       "accused conspirator                                                                       1\n",
       "Jesuit and explorer                                                                       1\n",
       "natural philosopher and politician                                                        1\n",
       "army officer in the imperial service                                                      1\n",
       "schoolmaster and Church of Scotland minister                                              1\n",
       "bishop of Worcester, preacher, and protestant martyr                                      1\n",
       "compiler of the Bannatyne manuscript                                                      1\n",
       "colonist and proprietary agent in America                                                 1\n",
       "topographer and Church of England clergyman                                               1\n",
       "mining entrepreneur and mint-master                                                       1\n",
       "Quaker apologist and controversialist                                                     1\n",
       "queen of England, first consort of Henry VIII                                             1\n",
       "businesswoman and protestant exile                                                        1\n",
       "printseller                                                                               1\n",
       "abbot of W&uuml;rzburg                                                                    1\n",
       "parliamentary official and newsletter writer                                              1\n",
       "Franciscan priest and historian                                                           1\n",
       "bishop of Lichfield and Coventry                                                          1\n",
       "merchant and diplomatist                                                                  1\n",
       "woollen cloth merchant                                                                    1\n",
       "Church of Ireland dean of Clogher and writer                                              1\n",
       "harpist and compiler of manuscripts                                                       1\n",
       "Prince of Wales                                                                           1\n",
       "Name: Historical Significance, Length: 4723, dtype: int64"
      ]
     },
     "execution_count": 4,
     "metadata": {},
     "output_type": "execute_result"
    }
   ],
   "source": [
    "data_6dfb['Historical Significance'].value_counts()"
   ]
  },
  {
   "cell_type": "code",
   "execution_count": 5,
   "metadata": {},
   "outputs": [],
   "source": [
    "signs = data_6dfb['Historical Significance'].value_counts()"
   ]
  },
  {
   "cell_type": "code",
   "execution_count": 6,
   "metadata": {},
   "outputs": [
    {
     "data": {
      "text/plain": [
       "['diplomat',\n",
       " 'soldier',\n",
       " 'composer',\n",
       " 'magnate',\n",
       " 'Independent minister',\n",
       " 'parliamentarian army officer',\n",
       " 'noblewoman',\n",
       " 'author',\n",
       " 'landowner',\n",
       " 'mathematician',\n",
       " 'portrait painter',\n",
       " 'Church of England clergyman and religious controversialist',\n",
       " 'actor',\n",
       " 'judge and politician',\n",
       " 'painter',\n",
       " 'civil lawyer',\n",
       " 'bookseller',\n",
       " 'conspirator',\n",
       " 'nonconformist minister',\n",
       " 'army officer and politician',\n",
       " 'religious writer',\n",
       " 'organist and composer',\n",
       " 'religious controversialist',\n",
       " 'theologian',\n",
       " 'printer and bookseller',\n",
       " 'engraver',\n",
       " 'merchant and politician',\n",
       " 'Church of England clergyman and religious writer',\n",
       " 'historian',\n",
       " 'Latin poet',\n",
       " 'poet and playwright',\n",
       " 'Church of England clergyman and writer',\n",
       " 'Church of England clergyman and poet',\n",
       " 'Salem witches and their accusers',\n",
       " 'politician and regicide',\n",
       " 'surgeon',\n",
       " 'botanist',\n",
       " 'schoolmaster',\n",
       " 'Quaker preacher',\n",
       " 'herald']"
      ]
     },
     "execution_count": 6,
     "metadata": {},
     "output_type": "execute_result"
    }
   ],
   "source": [
    "[i for i in signs.index if signs.loc[i] < 57 and signs.loc[i] > 20]"
   ]
  },
  {
   "cell_type": "code",
   "execution_count": 7,
   "metadata": {},
   "outputs": [
    {
     "name": "stdout",
     "output_type": "stream",
     "text": [
      "10669 found\n",
      "2186 not found\n",
      "2946 nan\n",
      "Salem witches and their accusers                                    22\n",
      "botanist                                                            22\n",
      "schoolmaster                                                        22\n",
      "herald                                                              21\n",
      "headmaster                                                          19\n",
      "Franciscan friar                                                    18\n",
      "sculptor                                                            17\n",
      "chieftain                                                           16\n",
      "EGR Taylor, Mathematical Practitioners of Tudor & Stuart England    15\n",
      "pirate                                                              15\n",
      "dtype: int64\n"
     ]
    }
   ],
   "source": [
    "import re\n",
    "def get_submatrix():\n",
    "    cat_words = [\n",
    "    # священники\n",
    "    ['clergyman', 'priest', 'monk', 'jesuit', 'bishop', 'administrator', 'theologian', 'archbishop',\n",
    "    'religious', 'missionary', 'preacher'],\n",
    "    # госслужащие\n",
    "    ['politician', 'minister', 'diplomat', 'mayor', 'judge', 'lawyer', 'head', 'diplomatist', 'manager',\n",
    "    'governor', 'secretary', 'government'],\n",
    "    # знать\n",
    "    ['queen', 'king', 'prince', 'duke', 'nobleman', 'noblewoman', 'count', 'landowner', 'courtier'],\n",
    "    # торговцы, капиталисты\n",
    "    ['merchant', 'financier', 'manufacturer', 'bookseller', 'magnate', 'benefactor', 'antiquary', 'printer',\n",
    "    'businesswoman', 'businessman', 'publisher'],\n",
    "    # военные и т.п.\n",
    "    ['officer', 'soldier', 'captain', 'explorer', 'conspirator', 'commander', 'navigator'],\n",
    "    # люди творческих профессий\n",
    "    ['painter', 'tutor', 'writer', 'composer', 'poet', 'philosopher', 'actor', 'author', 'playwright', 'musician',\n",
    "    'singer', 'orientalist', 'engraver', 'actress'],\n",
    "    # люди технических профессий\n",
    "    ['surgeon', 'mathematician', 'scholar', 'historian', 'acrhitect', 'engineer', 'translator', 'anatomist',\n",
    "     'saddler', 'physician', 'architect']\n",
    "    ]\n",
    "    ans = np.zeros((len(data_6dfb), len(cat_words)))\n",
    "    found_cnt = 0\n",
    "    notfound = []\n",
    "    for i, sign in enumerate(data_6dfb['Historical Significance']):\n",
    "        try:\n",
    "            tokens = re.split(', | ', sign.lower())\n",
    "        except:\n",
    "            continue\n",
    "        flag = False\n",
    "        for j, cur_cat_words in enumerate(cat_words):\n",
    "            for word in tokens:\n",
    "                if word.lower() in cur_cat_words:\n",
    "                    ans[i][j] = 1\n",
    "                    flag = True\n",
    "        if not flag:\n",
    "            notfound.append(sign)\n",
    "        else:\n",
    "            found_cnt += 1\n",
    "    print(found_cnt, 'found')\n",
    "    print(len(notfound), 'not found')\n",
    "    print(len(data_6dfb) - found_cnt - len(notfound), 'nan')\n",
    "    print(pd.Series(notfound).value_counts().head(n=10))\n",
    "    return ans\n",
    "\n",
    "submatrix = get_submatrix()"
   ]
  },
  {
   "cell_type": "code",
   "execution_count": 8,
   "metadata": {},
   "outputs": [
    {
     "data": {
      "text/plain": [
       "Counter({0.0: 5132, 1.0: 8335, 2.0: 2282, 3.0: 51, 4.0: 1})"
      ]
     },
     "execution_count": 8,
     "metadata": {},
     "output_type": "execute_result"
    }
   ],
   "source": [
    "Counter(list(submatrix.sum(axis=1)))"
   ]
  },
  {
   "cell_type": "code",
   "execution_count": 9,
   "metadata": {},
   "outputs": [
    {
     "name": "stderr",
     "output_type": "stream",
     "text": [
      "/usr/local/lib/python3.6/dist-packages/matplotlib/__init__.py:886: MatplotlibDeprecationWarning: \n",
      "examples.directory is deprecated; in the future, examples will be found relative to the 'datapath' directory.\n",
      "  \"found relative to the 'datapath' directory.\".format(key))\n"
     ]
    },
    {
     "data": {
      "text/plain": [
       "<matplotlib.axes._subplots.AxesSubplot at 0x7f9fa521d080>"
      ]
     },
     "execution_count": 9,
     "metadata": {},
     "output_type": "execute_result"
    }
   ],
   "source": [
    "import seaborn as sns\n",
    "sns.heatmap(pd.DataFrame(submatrix).corr())"
   ]
  },
  {
   "cell_type": "code",
   "execution_count": 10,
   "metadata": {},
   "outputs": [
    {
     "data": {
      "text/plain": [
       "array([0.19055756, 0.19011455, 0.05081957, 0.06759066, 0.08005822,\n",
       "       0.16707803, 0.08005822])"
      ]
     },
     "execution_count": 10,
     "metadata": {},
     "output_type": "execute_result"
    }
   ],
   "source": [
    "submatrix.mean(axis=0)"
   ]
  },
  {
   "cell_type": "code",
   "execution_count": 11,
   "metadata": {},
   "outputs": [],
   "source": [
    "def parse_year(array):\n",
    "    ans = []\n",
    "    for i in array:\n",
    "        try:\n",
    "            val = int(i[-4:])\n",
    "        except:\n",
    "            val = int(i[:4])\n",
    "        ans.append(val)\n",
    "    return np.array(ans)\n",
    "    \n",
    "birth_year = parse_year(data_6dfb['Extant Birth Year'])"
   ]
  },
  {
   "cell_type": "code",
   "execution_count": 12,
   "metadata": {},
   "outputs": [
    {
     "data": {
      "text/plain": [
       "(array([ 260.,  723., 1024., 1477., 1805., 2468., 2615., 2302., 1979.,\n",
       "        1148.]),\n",
       " array([1389. , 1421.6, 1454.2, 1486.8, 1519.4, 1552. , 1584.6, 1617.2,\n",
       "        1649.8, 1682.4, 1715. ]),\n",
       " <a list of 10 Patch objects>)"
      ]
     },
     "execution_count": 12,
     "metadata": {},
     "output_type": "execute_result"
    },
    {
     "data": {
      "image/png": "[encoded data removed]",
      "text/plain": [
       "<Figure size 432x288 with 1 Axes>"
      ]
     },
     "metadata": {},
     "output_type": "display_data"
    }
   ],
   "source": [
    "import matplotlib.pyplot as plt\n",
    "%matplotlib inline\n",
    "plt.hist(birth_year)"
   ]
  },
  {
   "cell_type": "code",
   "execution_count": 13,
   "metadata": {},
   "outputs": [
    {
     "data": {
      "text/plain": [
       "(array([ 595., 1469., 1706., 2276., 2245., 2653., 2166., 1769.,  880.,\n",
       "          42.]),\n",
       " array([1500. , 1531.6, 1563.2, 1594.8, 1626.4, 1658. , 1689.6, 1721.2,\n",
       "        1752.8, 1784.4, 1816. ]),\n",
       " <a list of 10 Patch objects>)"
      ]
     },
     "execution_count": 13,
     "metadata": {},
     "output_type": "execute_result"
    },
    {
     "data": {
      "image/png": "[encoded data removed]",
      "text/plain": [
       "<Figure size 432x288 with 1 Axes>"
      ]
     },
     "metadata": {},
     "output_type": "display_data"
    }
   ],
   "source": [
    "death_year = parse_year(data_6dfb['Extant Death Year'])\n",
    "plt.hist(death_year)"
   ]
  },
  {
   "cell_type": "code",
   "execution_count": 14,
   "metadata": {},
   "outputs": [],
   "source": [
    "def check_nans(array):\n",
    "    return np.array([int(type(i) == str) for i in array])\n",
    "\n",
    "\n",
    "def parse_gender(array):\n",
    "    ans = []\n",
    "    for i in array:\n",
    "        if i == 'male':\n",
    "            ans.append(1)\n",
    "        elif i == 'female':\n",
    "            ans.append(0)\n",
    "        else:\n",
    "            ans.append(0.5)\n",
    "    return np.array(ans)\n",
    "\n",
    "\n",
    "has_title = check_nans(data_6dfb.Title)\n",
    "has_suffix = check_nans(data_6dfb.Suffix)\n",
    "gender = parse_gender(data_6dfb.Gender)\n",
    "\n",
    "columns = [has_title, has_suffix, gender, birth_year, death_year]\n",
    "for i in range(submatrix.shape[1]):\n",
    "    columns.append(submatrix[:, i])\n",
    "n_col = len(columns)\n",
    "matrix = np.vstack(columns)\n",
    "matrix = (matrix - matrix.mean(axis=1).reshape(n_col, -1)) / matrix.std(axis=1).reshape(n_col, -1)\n",
    "matrix = matrix.T"
   ]
  },
  {
   "cell_type": "code",
   "execution_count": 15,
   "metadata": {},
   "outputs": [
    {
     "data": {
      "text/plain": [
       "(15801, 12)"
      ]
     },
     "execution_count": 15,
     "metadata": {},
     "output_type": "execute_result"
    }
   ],
   "source": [
    "matrix.shape"
   ]
  },
  {
   "cell_type": "code",
   "execution_count": 16,
   "metadata": {},
   "outputs": [],
   "source": [
    "matrix += np.random.randn(*matrix.shape) * 1e-4\n",
    "matrix[:, -submatrix.shape[1]:] /= 3."
   ]
  },
  {
   "cell_type": "code",
   "execution_count": 17,
   "metadata": {},
   "outputs": [
    {
     "data": {
      "text/plain": [
       "array([-6.93791817e-07,  4.86803144e-07,  2.51751807e-08, -1.73253402e-07,\n",
       "        3.48064033e-07,  4.07821468e-07,  2.28851689e-07, -2.01897553e-07,\n",
       "        3.26729562e-07, -3.40537827e-08,  5.14502978e-07, -6.40438632e-08])"
      ]
     },
     "execution_count": 17,
     "metadata": {},
     "output_type": "execute_result"
    }
   ],
   "source": [
    "matrix.mean(axis=0)"
   ]
  },
  {
   "cell_type": "code",
   "execution_count": 18,
   "metadata": {},
   "outputs": [
    {
     "data": {
      "text/plain": [
       "array([1.00000004, 0.99999978, 1.00000068, 0.9999997 , 1.00000138,\n",
       "       0.33333325, 0.33333324, 0.33333359, 0.33333361, 0.33333348,\n",
       "       0.33333332, 0.33333323])"
      ]
     },
     "execution_count": 18,
     "metadata": {},
     "output_type": "execute_result"
    }
   ],
   "source": [
    "matrix.std(axis=0)"
   ]
  },
  {
   "cell_type": "code",
   "execution_count": 19,
   "metadata": {},
   "outputs": [],
   "source": [
    "with open(\"../datasets/6dfb_mat\", \"w\") as f:\n",
    "    for row in matrix:\n",
    "        for elem in row:\n",
    "            print(\"%.8f\" % elem, end=' ', file=f)\n",
    "        print(file=f)"
   ]
  }
 ],
 "metadata": {
  "kernelspec": {
   "display_name": "Python 3",
   "language": "python",
   "name": "python3"
  },
  "language_info": {
   "codemirror_mode": {
    "name": "ipython",
    "version": 3
   },
   "file_extension": ".py",
   "mimetype": "text/x-python",
   "name": "python",
   "nbconvert_exporter": "python",
   "pygments_lexer": "ipython3",
   "version": "3.6.7"
  }
 },
 "nbformat": 4,
 "nbformat_minor": 2
}
