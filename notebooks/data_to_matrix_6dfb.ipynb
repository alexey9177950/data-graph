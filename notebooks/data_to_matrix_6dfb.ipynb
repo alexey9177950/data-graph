{
 "cells": [
  {
   "cell_type": "code",
   "execution_count": 1,
   "metadata": {},
   "outputs": [
    {
     "data": {
      "text/plain": [
       "Index(['SDFB Person ID', 'ODNB ID', 'Display Name', 'Prefix', 'First Name',\n",
       "       'Last Name', 'Suffix', 'Title', 'All Search Names', 'Gender',\n",
       "       'Historical Significance', 'Birth Year Type', 'Extant Birth Year',\n",
       "       'Alternate Birth Year', 'Death Year Type', 'Extant Death Year',\n",
       "       'Alternate Death Year', 'Group List'],\n",
       "      dtype='object')"
      ]
     },
     "execution_count": 1,
     "metadata": {},
     "output_type": "execute_result"
    }
   ],
   "source": [
    "import os\n",
    "import pandas as pd\n",
    "import numpy as np\n",
    "\n",
    "data_6dfb = pd.read_csv('../datasets/6dfb/SDFB_people.csv')\n",
    "data_6dfb.columns"
   ]
  },
  {
   "cell_type": "code",
   "execution_count": 2,
   "metadata": {},
   "outputs": [
    {
     "data": {
      "text/plain": [
       "(374, 172)"
      ]
     },
     "execution_count": 2,
     "metadata": {},
     "output_type": "execute_result"
    }
   ],
   "source": [
    "from collections import Counter\n",
    "\n",
    "def count_not_nan(array):\n",
    "    return sum(int(type(i) == str) for i in array)\n",
    "\n",
    "count_not_nan(data_6dfb.Suffix), count_not_nan(data_6dfb.Title)"
   ]
  },
  {
   "cell_type": "code",
   "execution_count": 3,
   "metadata": {},
   "outputs": [
    {
     "data": {
      "text/plain": [
       "male      12706\n",
       "female     3093\n",
       "other         2\n",
       "Name: Gender, dtype: int64"
      ]
     },
     "execution_count": 3,
     "metadata": {},
     "output_type": "execute_result"
    }
   ],
   "source": [
    "data_6dfb.Gender.value_counts()"
   ]
  },
  {
   "cell_type": "code",
   "execution_count": 4,
   "metadata": {},
   "outputs": [
    {
     "data": {
      "text/plain": [
       "Church of England clergyman                                   408\n",
       "politician                                                    335\n",
       "judge                                                         230\n",
       "poet                                                          210\n",
       "physician                                                     195\n",
       "clergyman and ejected minister                                154\n",
       "army officer                                                  143\n",
       "naval officer                                                 129\n",
       "nobleman                                                      112\n",
       "Jesuit                                                        106\n",
       "college head                                                  101\n",
       "courtier                                                      100\n",
       "royalist army officer                                          91\n",
       "antiquary                                                      91\n",
       "merchant                                                       80\n",
       "administrator                                                  74\n",
       "Roman Catholic priest                                          74\n",
       "Church of Scotland minister                                    72\n",
       "Church of England clergyman and author                         71\n",
       "translator                                                     69\n",
       "lawyer                                                         66\n",
       "writer                                                         64\n",
       "printer                                                        62\n",
       "Presbyterian minister                                          58\n",
       "colonial governor                                              58\n",
       "playwright                                                     57\n",
       "lawyer and politician                                          57\n",
       "diplomat                                                       56\n",
       "composer                                                       56\n",
       "soldier                                                        56\n",
       "                                                             ... \n",
       "navigator and privateer                                         1\n",
       "army officer and autobiographer                                 1\n",
       "Church of England clergyman and colonist in America             1\n",
       "linen draper and philanthropic society administrator            1\n",
       "Quaker prophet and autobiographer                               1\n",
       "Particular Baptist minister and theologian                      1\n",
       "mathematician and patron of astronomy                           1\n",
       "theologian and grammarian                                       1\n",
       "educationist and college head                                   1\n",
       "Church of England clergyman and radical protestant thinker      1\n",
       "clergyman and protestant reformer                               1\n",
       "hydrographer                                                    1\n",
       "Roman Catholic priest and writer on logic                       1\n",
       "traveller to Russia and diplomat                                1\n",
       "herald and political economist                                  1\n",
       "minister of the Secession church and poet                       1\n",
       "educational reformer                                            1\n",
       "Quaker preacher and poet                                        1\n",
       "planter and politician in Jamaica                               1\n",
       "arms painter and author                                         1\n",
       "Welsh-language writer and preacher                              1\n",
       "bibliographer and schoolmaster                                  1\n",
       "alchemist and priest                                            1\n",
       "physician and mining entrepreneur                               1\n",
       "Wife to Sir Daniel Fleming (antiquary)                          1\n",
       "satirist and political writer                                   1\n",
       "composer; instructor of the choristers at Exeter Cathedral      1\n",
       "Benedictine abbot                                               1\n",
       "king of Scotland, England, and Ireland                          1\n",
       "writer and nonjuring Church of England clergyman                1\n",
       "Name: Historical Significance, Length: 4723, dtype: int64"
      ]
     },
     "execution_count": 4,
     "metadata": {},
     "output_type": "execute_result"
    }
   ],
   "source": [
    "data_6dfb['Historical Significance'].value_counts()"
   ]
  },
  {
   "cell_type": "code",
   "execution_count": 5,
   "metadata": {},
   "outputs": [
    {
     "data": {
      "text/plain": [
       "12855"
      ]
     },
     "execution_count": 5,
     "metadata": {},
     "output_type": "execute_result"
    }
   ],
   "source": [
    "data_6dfb['Historical Significance'].value_counts().sum()"
   ]
  },
  {
   "cell_type": "code",
   "execution_count": 6,
   "metadata": {},
   "outputs": [],
   "source": [
    "def parse_year(array):\n",
    "    ans = []\n",
    "    for i in array:\n",
    "        try:\n",
    "            val = int(i[-4:])\n",
    "        except:\n",
    "            val = int(i[:4])\n",
    "        ans.append(val)\n",
    "    return np.array(ans)\n",
    "    \n",
    "birth_year = parse_year(data_6dfb['Extant Birth Year'])"
   ]
  },
  {
   "cell_type": "code",
   "execution_count": 7,
   "metadata": {},
   "outputs": [
    {
     "data": {
      "text/plain": [
       "(array([ 260.,  723., 1024., 1477., 1805., 2468., 2615., 2302., 1979.,\n",
       "        1148.]),\n",
       " array([1389. , 1421.6, 1454.2, 1486.8, 1519.4, 1552. , 1584.6, 1617.2,\n",
       "        1649.8, 1682.4, 1715. ]),\n",
       " <a list of 10 Patch objects>)"
      ]
     },
     "execution_count": 7,
     "metadata": {},
     "output_type": "execute_result"
    },
    {
     "data": {
      "image/png": "[encoded data removed]",
      "text/plain": [
       "<Figure size 432x288 with 1 Axes>"
      ]
     },
     "metadata": {},
     "output_type": "display_data"
    }
   ],
   "source": [
    "import matplotlib.pyplot as plt\n",
    "%matplotlib inline\n",
    "plt.hist(birth_year)"
   ]
  },
  {
   "cell_type": "code",
   "execution_count": 8,
   "metadata": {},
   "outputs": [
    {
     "data": {
      "text/plain": [
       "(array([ 595., 1469., 1706., 2276., 2245., 2653., 2166., 1769.,  880.,\n",
       "          42.]),\n",
       " array([1500. , 1531.6, 1563.2, 1594.8, 1626.4, 1658. , 1689.6, 1721.2,\n",
       "        1752.8, 1784.4, 1816. ]),\n",
       " <a list of 10 Patch objects>)"
      ]
     },
     "execution_count": 8,
     "metadata": {},
     "output_type": "execute_result"
    },
    {
     "data": {
      "image/png": "[encoded data removed]",
      "text/plain": [
       "<Figure size 432x288 with 1 Axes>"
      ]
     },
     "metadata": {},
     "output_type": "display_data"
    }
   ],
   "source": [
    "death_year = parse_year(data_6dfb['Extant Death Year'])\n",
    "plt.hist(death_year)"
   ]
  },
  {
   "cell_type": "code",
   "execution_count": 9,
   "metadata": {},
   "outputs": [],
   "source": [
    "def check_nans(array):\n",
    "    return np.array([int(type(i) == str) for i in array])\n",
    "\n",
    "\n",
    "def parse_gender(array):\n",
    "    ans = []\n",
    "    for i in array:\n",
    "        if i == 'male':\n",
    "            ans.append(1)\n",
    "        elif i == 'female':\n",
    "            ans.append(0)\n",
    "        else:\n",
    "            ans.append(0.5)\n",
    "    return np.array(ans)\n",
    "\n",
    "\n",
    "has_title = check_nans(data_6dfb.Title)\n",
    "has_suffix = check_nans(data_6dfb.Suffix)\n",
    "gender = parse_gender(data_6dfb.Gender)\n",
    "\n",
    "columns = (has_title, has_suffix, gender, birth_year, death_year)\n",
    "n_col = len(columns)\n",
    "matrix = np.vstack(columns)\n",
    "matrix = (matrix - matrix.mean(axis=1).reshape(n_col, -1)) / matrix.std(axis=1).reshape(n_col, -1)\n",
    "matrix = matrix.T"
   ]
  },
  {
   "cell_type": "code",
   "execution_count": 10,
   "metadata": {},
   "outputs": [
    {
     "data": {
      "text/plain": [
       "(15801, 5)"
      ]
     },
     "execution_count": 10,
     "metadata": {},
     "output_type": "execute_result"
    }
   ],
   "source": [
    "matrix.shape"
   ]
  },
  {
   "cell_type": "code",
   "execution_count": 11,
   "metadata": {},
   "outputs": [],
   "source": [
    "matrix += np.random.randn(*matrix.shape) * 1e-4"
   ]
  },
  {
   "cell_type": "code",
   "execution_count": 12,
   "metadata": {},
   "outputs": [
    {
     "data": {
      "text/plain": [
       "array([ 1.43890227e-06,  1.88190210e-07,  5.33943346e-07, -4.58460421e-07,\n",
       "       -1.12232377e-06])"
      ]
     },
     "execution_count": 12,
     "metadata": {},
     "output_type": "execute_result"
    }
   ],
   "source": [
    "matrix.mean(axis=0)"
   ]
  },
  {
   "cell_type": "code",
   "execution_count": 13,
   "metadata": {},
   "outputs": [
    {
     "data": {
      "text/plain": [
       "array([1.00000006, 0.99999992, 0.99999998, 1.0000003 , 0.99999981])"
      ]
     },
     "execution_count": 13,
     "metadata": {},
     "output_type": "execute_result"
    }
   ],
   "source": [
    "matrix.std(axis=0)"
   ]
  },
  {
   "cell_type": "code",
   "execution_count": 14,
   "metadata": {},
   "outputs": [],
   "source": [
    "with open(\"../matrixes/6dfb\", \"w\") as f:\n",
    "    for row in matrix:\n",
    "        for elem in row:\n",
    "            print(\"%.8f\" % elem, end=' ', file=f)\n",
    "        print(file=f)"
   ]
  }
 ],
 "metadata": {
  "kernelspec": {
   "display_name": "Python 3",
   "language": "python",
   "name": "python3"
  },
  "language_info": {
   "codemirror_mode": {
    "name": "ipython",
    "version": 3
   },
   "file_extension": ".py",
   "mimetype": "text/x-python",
   "name": "python",
   "nbconvert_exporter": "python",
   "pygments_lexer": "ipython3",
   "version": "3.6.7"
  }
 },
 "nbformat": 4,
 "nbformat_minor": 2
}
