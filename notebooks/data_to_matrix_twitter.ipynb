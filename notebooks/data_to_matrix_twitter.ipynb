{
 "cells": [
  {
   "cell_type": "code",
   "execution_count": 1,
   "metadata": {},
   "outputs": [],
   "source": [
    "from tqdm import tqdm\n",
    "import numpy as np\n",
    "from pickle import load\n",
    "\n",
    "def read_matrix_pickle():\n",
    "    # 0:14 -- float64\n",
    "    # 0:02 -- float32\n",
    "    with open(\"../datasets/model.pickle\", \"rb\") as f:\n",
    "        mat = load(f)\n",
    "        words = load(f)\n",
    "    return mat, words"
   ]
  },
  {
   "cell_type": "code",
   "execution_count": 18,
   "metadata": {},
   "outputs": [],
   "source": [
    "def read_tweet(f_desc):\n",
    "    ans = dict()\n",
    "    ans['username'] = f_desc.readline()\n",
    "    ans['tweet_id'] = f_desc.readline()\n",
    "    ans['time'] = f_desc.readline()\n",
    "    ans['user_app'] = f_desc.readline()\n",
    "    ans['retweet_from'] = f_desc.readline()\n",
    "    ans['reply_to'] = f_desc.readline()\n",
    "    ans['content'] = list(map(int, f_desc.readline().split()))\n",
    "    n_links = int(f_desc.readline())\n",
    "    for i in range(n_links):\n",
    "        f_desc.readline()\n",
    "    f_desc.readline() # нужно ли?\n",
    "    return ans\n",
    "\n",
    "\n",
    "def read_tweets(path='../datasets/tweet_result_0_.txt'):\n",
    "    f_desc = open(path)\n",
    "    ans = []\n",
    "    for i in range(200):\n",
    "        ans.append(read_tweet(f_desc))\n",
    "    return ans\n",
    "\n",
    "some_tweets = read_tweets()"
   ]
  },
  {
   "cell_type": "code",
   "execution_count": 21,
   "metadata": {},
   "outputs": [
    {
     "name": "stderr",
     "output_type": "stream",
     "text": [
      "100%|██████████| 8177599/8177599 [00:27<00:00, 300849.94it/s]\n"
     ]
    }
   ],
   "source": [
    "def read_cnt(path='../datasets/twitter_dataset/WordTable.txt'):\n",
    "    ans = []\n",
    "    f_desc = open(path)\n",
    "    n_words = int(f_desc.readline())\n",
    "    for line in tqdm(f_desc, total=n_words):\n",
    "        code, cnt, word = line.split('\\t')\n",
    "        ans.append(int(cnt))\n",
    "    return ans\n",
    "\n",
    "cnt = read_cnt()"
   ]
  },
  {
   "cell_type": "code",
   "execution_count": 31,
   "metadata": {},
   "outputs": [
    {
     "data": {
      "text/plain": [
       "(array([7465688.,  252797.,  103864.,   59018.,   35761.,   29270.,\n",
       "          21897.,   17412.,   14020.,   11791.]),\n",
       " array([ 1. , 10.8, 20.6, 30.4, 40.2, 50. , 59.8, 69.6, 79.4, 89.2, 99. ]),\n",
       " <a list of 10 Patch objects>)"
      ]
     },
     "execution_count": 31,
     "metadata": {},
     "output_type": "execute_result"
    },
    {
     "data": {
      "image/png": "[encoded data removed]",
      "text/plain": [
       "<Figure size 432x288 with 1 Axes>"
      ]
     },
     "metadata": {},
     "output_type": "display_data"
    }
   ],
   "source": [
    "import matplotlib.pyplot as plt\n",
    "%matplotlib inline\n",
    "plt.hist([i for i in cnt if i < 100])"
   ]
  },
  {
   "cell_type": "code",
   "execution_count": 19,
   "metadata": {},
   "outputs": [
    {
     "name": "stderr",
     "output_type": "stream",
     "text": [
      "100%|██████████| 8177599/8177599 [00:29<00:00, 280783.38it/s]\n"
     ]
    }
   ],
   "source": [
    "def read_word_dict(path='../datasets/twitter_dataset/WordTable.txt'):\n",
    "    ans = dict()\n",
    "    f_desc = open(path)\n",
    "    n_words = int(f_desc.readline())\n",
    "    for line in tqdm(f_desc, total=n_words):\n",
    "        code, cnt, word = line.split('\\t')\n",
    "        if int(cnt) > 10:\n",
    "            ans[int(code)] = word\n",
    "    return ans\n",
    "\n",
    "word_dict = read_word_dict()"
   ]
  },
  {
   "cell_type": "code",
   "execution_count": 20,
   "metadata": {},
   "outputs": [
    {
     "name": "stdout",
     "output_type": "stream",
     "text": [
      " yo luci thing miami kinda cold beauti love\n",
      " happi day luci\n",
      " im wait\n",
      " beauti brotherhood\n",
      " smiley\n",
      " friend ground ve cough week nice summer holiday\n",
      " great haha\n",
      " im ive year fuck wbu luci\n",
      "\n",
      " south america love\n",
      " joe jona bcs parti cute\n",
      " miss luci\n",
      " wow tt today epic\n",
      " ikr im wednesday haha\n",
      " wait avatar\n",
      " aaah memee gw lagi paniiik taauu sok panik\n",
      " deb itu gr2 td aq cabut paksa gr2 lmot stlh pasang ut jd restart lg ni\n",
      " kacaau da yg tau ga gmn balikin isi memorycard masaak foto dn lagu di mmc saya hilang semua\n",
      " baah hahaa\n",
      " hahaha knp jadi dijual semua hp nya nen si udah ganti hape jg\n",
      " udaaah heeey dari kapan tauu\n",
      " punten sadayana numpang lewat rt asikk dibayarin hari kami kita mo ditraktir makan2\n",
      " hahaha maaf rt keterbatasan komunikasi 140 antara indomi vegan taro rumput laut hahaha\n",
      " winaa itu enak taro rt jangan bayangin taro rasa rumput rasanya persi kayak sawi yg di mie\n",
      " rt kompa karier fair 2010 bukan hanya cari kerja\n",
      " ngetik keyword roti yg keluar malah pijat eroti\n",
      " kesimpulan hari ini adalah si amaya mulai bsk ke kantor pake kebaya dan songket pinjaman dari mamaknya\n",
      " ngambil gaji aja samp loncat rt tv seorang pembantu nekat loncat dari lantai 29 apartemen\n",
      " selalu ngebodor kalo chattingan sama amaya sosialita gagal\n",
      " reach ll lalala\n",
      " laah emang kam mw kemana\n",
      " sama2 aja rt saya jam\n",
      " cool keluaran motown emang dah\n",
      " mata saya bisa cantengan jg ni kerja jam di depan komput\n",
      " udah ketrima floo yaa rt belo bikin lead amp\n",
      " rt yg pertamax twitter siapa\n",
      " wiin ol ym gaa kok gw ga nemu nama lw yaa bentar win\n",
      " hahahaa aaaawww darl itu avatar lho minta dicubit deh ganteeeeeeeeng\n",
      " hasiik dek rt cinta itu nggak bisa ditunda\n",
      " jgn tiru yg ini ya wahai awak media koran indonesia dengan\n",
      " hahaa iya sipoo\n",
      " pin atm haduh jgn donk yan dm yoow\n",
      " hehe iya makasih adeek darle\n",
      " tp msh jd pejabat kan bg hihii piss rt miyoung yeah rt lantiak kan anak komunikasi tie udh sarjana lg\n",
      " heh sudah pake ut mari kita buat grup bersama yg lain\n",
      " ni orang adaa aja jwbnnya rt lantiak klo razia org jlek bg nyantai aja tie\n",
      " razia org jelek ya bg bener kata si ujang bang rt kabur bang jgn amp ketangkep rt lantiak di monumen ada razia\n",
      " bener pria rt ann eli\n",
      " kamu salah twit ya hahaa\n",
      " hahaa rt sengaja tii biar semua baca hahaha\n",
      " maya di majalah enjel di citibank\n",
      "\n",
      " ih mee lagi rt astaga memeee ternyata rt sumpah kenapa dirambut gw ada kutunya sih\n",
      " hahaa media media cetak itu geng saja mgkn ya maya blm masih\n",
      " di palmerah iya ni merindu jatinenj rencananya kesana minggu ini tpi masih rencana\n",
      " iya udah lama jg kali kamu kmana aja\n",
      " pagi pagi kok kantor udah kyk night club yaa mbak playlistnya saya goyang ni\n",
      " hahaa pale gak gw ntr jd guid lw disana tan kalw minat nyulik sms dulu ya lhoo\n",
      " ert rt rt god heart give time\n",
      " looh kok gjd rik idiih kok aneh si perusahaannya udh ga sabar dngr ceritanya\n",
      " weekend ini tampaknya banyak acara bandung saya tergiur yg mw culik saya kesana peliiiss\n",
      " hey kamu kamu kerjaan barunya havefun kan rik\n",
      " brapa dr 10 rt pelem gelo ih madam hahahaha\n",
      " mejil hahaha lucu kok kak lucu bgt lucu jkt bukan lucu medan dipaksa\n",
      " baless lah itu chatingan trkhr paraah cutaw\n",
      "\n",
      " mejil hahahaa kw tau apa yg hrs hahhaa ciripa panggil marimar kepada ciripa\n",
      " foto bebeem mu mejil\n",
      " dia emg kyk gt alhasil gw jg ga dibales2 ckckck\n",
      " eh td si ondel ini blg gw mati tie ke ym aja pas siang2 pitnah ih\n",
      " ada yg mw gw setengah jam lg hihii\n",
      " tegaaa rt suruhan gw tuuh tanduk devil rt mksh ya ata kadomu cont\n",
      " huaa sapa itu ji hahaa rt idup lo makin mirip kariag kun ahaha\n",
      " mksh ya ata kadomu hari ini jari saya kejepit pintu dan ac gerbong yg mksh yaa\n",
      " nelenludah rt indomi diduga mengandung zat aha sekarang gue tau nanti malem maskeran pake apa\n",
      " mari dukung gerakan ini kak rt nato gt action tweet good job\n",
      " hahaha timur mana timur tengah\n",
      " waduh sabar ya adek ganteng rt selamat datang di\n",
      " daerah timur boleh tu kyknya rt ayo pantaii mana yg enak rt sumpaaah pengen ke pantaai\n",
      " sumpaaah pengen ke pantaai\n",
      " hahaha ah rt waah nyadar asal muasal ni lantiak mw apain ni kak siap2 gulung lengan\n",
      " hahaa uda lantiak rt lantiak male ah debat sama org2 kampung hihihi piss piss\n",
      " udah ada mall lagi rt lantiak heh itu jg kota tw pendidikan kak lgian lg\n",
      " lantiak arrgghh lho\n",
      " heh saya kota pendidikan lo rt lantiak fikom yg di kota apa di daerah sono rt\n",
      " emg hr ni ya bg rt lantiak rt novii happi birthday kampus fikom unpad semoga kelak makin baik segi pelayanannya ya\n",
      " rt smangaat yaa rt nanti saya ceritakan\n",
      " tmpk tolol ya rt lah bkn dperkosa dong namani rt mengaku diperkosa zainuddin mz aida tak keberatan\n",
      " biar direkrut jd arti kykni rt rt mengaku diperkosa zainuddin mz aida tak keberatan\n",
      " lantiak hahahaaa geli sendiri\n",
      " hahahaha mikir kali org mw lw bg rt lantiak clana dalem ilang di laundri wew udh nga bener neh tukang laundri nya\n",
      " hahaaa salam buat si abank ya namanya jg bank mi pasti ngeliat penampilan dan wajah gen\n",
      " tes dmana gentaa\n",
      " lol rt saya sudah makan satu rt udahan ya nyaa tidak menggugah selera anda untuk memasak\n",
      " udahan ya nyaa tidak menggugah selera anda untuk memasak indomi sepulang beraktifita hari ini\n",
      " dilarang edar di taiwan seph rt emang lagi ada masalah apa sih\n",
      " rt menk mi instan aman tapi banyakin sayur deh\n",
      " pengakuan langsung rt makan terakhir rt foe mau tanya makan indomi ga\n",
      " maia hahaha dibaha lagi itu status bwt temen gw je\n",
      " maia cape dee\n",
      " maia hihii habi ga pernah ngetwit lg kan lw hari ini gw liat lw\n",
      " memang sudah sangat fenomen di negeri ini sampe2 presiden terpilih pun menggunakan jinglenya sebagai lagu saat sigh\n",
      " maia hahaha muncul jg lw di dunia twiter je\n",
      " ini dia link yg menyebutkan indomi layak jadi kado natal twelv gift\n",
      " sekali lagi lapisan mengkilap di mie bukan wax itu minyak karena mie digoreng sebelum dikema\n",
      " hee haduh baru tau sayaa rt kn jd gitarisnya derbi haha\n",
      " oiya ya saya sempet usus buntu kan gara2 indomi yaak hahaha\n",
      " air rebusan justru jangan dibuang karena air tersebut mengandung miner bukan parafin\n",
      " miyoung cuman meluruskan apa yg sere salah persepsi tentang makanan satu itu hehe\n",
      " hahaa iya dor rt hahaha parah ya samp kritikus film doyan indomi\n",
      " hahaha kagak kali hanya membaha dek lg seru di mili soalnya\n",
      " indomi tlah didaulat sebagai kado natal terbaik oleh roger ebert seorang pemenang pulitz kontributor chicago sun time\n",
      " betul phin rt mau makan indomi tp tiap hari juga semua yg berlebihan pernah bagus kn\n",
      " sebenarnya mie instan tidak mengandung yg elasti gluten yang terkandung pada\n",
      " bg primaa ngapain kak rt ngliat bang prima sm derbi dere ga ikutan haha\n",
      " saya jadi teringat swaktu berkunjung ke cuaca dingin di puncak gunung kami atasi dengan memasak indomi dan\n",
      " ada anggota yg berkunjung ke suku terpencil bernama mreka disuguhi nasi dan suku wana indomi mkanan mewah\n",
      " seru sekali grup sedang membaha pengalaman dengan indomi yg mau share jg di twitter buat hastag aj\n",
      " weew terakhir makan mie instan tahun 2002 wah saya harus belajar dari bapak utk tdk berselingkuh dgn mie\n",
      " pagi ini diawali pertemuan dengan pengguna kereta yg juga gemar meski pemula dia sudah bisa membuat cardigan pink utk\n",
      " bahasa gaul terbaru kacang versi onlain dek ngele rt miyoung kacang kaliiiii\n",
      " es merah ini menggoda iman saya apa daya tangan tak sampai\n",
      " rt eat pray love open wednesday\n",
      " ih hati2 kak rt sidang hari ini di pn jakarta barat teroris2 berpeci yg asalnya dari aceh senjata api tinggi\n",
      " ngook ngantuk bangeeeeeeeeet\n",
      " rumah makan itu wc nya udah kayak di hotel\n",
      " eheem rt miyoung baru kali ini org pacaran sayangni eyang umur mrka brp taun ckckckckk cont\n",
      " kebakaran rangka tdk mempengaruhi kereta express ac kn\n",
      " samaa mupeng aja sama yang menikah\n",
      " hahahahaa kebayang kak gmna malunya segra hapus hihii\n",
      " saya baru sadar mereka semua itu ya semua berlabel serupa peliss dari sodaranya\n",
      " hadeeuh mumpung lg brsemangat lnjutkan\n",
      " hahahaa\n",
      " saaa ckck sii tp gw jg blm hahaa nanggung nggak usah sahur terus capcus jakarta\n",
      " sapa ra innalilahi wa inna ilaihi rojiun telah meningg bapak nandang tercinta\n",
      " kok sama si kak gw jg tiba2 laper untuuuung ada chess stick abi\n",
      " pekerjaan tolol hari ini adalah makan kerupuk pagi2 buta akibat cacing2 yg breakdanc tiba2 tanpa izin\n",
      " hahahaa bilang kk tantek nya grace mw kenalan sama abng nya grace\n",
      " oyaa haduuh mksh ya\n",
      " hahahahaa kenal ya bilang dr kakak tantek\n",
      " eheem saka\n",
      " ada yg pernah ngerasa dikirimin ym sama gw long time talk ga itu hoax ym saya di hack\n",
      " miyoung haha bukan aq dek marga hehe\n",
      " hahaa dibaca bukan dek di cpt pulang kalian\n",
      " oo tuhan lepaskan lah saya dri kutukan marga yg satu berilah saya hahaa\n",
      " hahaa sama jg taan\n",
      " saya ipa intaaaan\n",
      " khekhekh itu dek\n",
      " hahaa tan mesra2 ababil gt ya org2 pd pacaran twitter\n",
      " saya gak kenal banyak org tp tak palah namanya jg acara kebersamaan\n",
      " ada apa ya dgn 22 oktob tmpaknya semua org menantikan tanggal jiayou\n",
      " haa ngook ketawa ku kaya ladi gitu\n",
      " hee apaa itu lap iler yu ah siap2 bentar lagi ada kursi pesawat promo 000\n",
      " hahaa foto lama skrg rambutnya udh dpotong lg\n",
      " haha udah tau gitu ya buu emang yaa begini rt ntr awal tahun breadtalk hahahaha\n",
      " mimpi apa ini siang2 pr dateng dan bagi2in yogurth\n",
      " rt benerin mood bareng yuk\n",
      " careful mw macet nii\n",
      " gile ya emang mata cowok gabisa berenti kelayapan klw liat cantik\n",
      " saya sdh menangi tadi\n",
      " jual tiket cook class kompa 16 okt aston 150rb kompa 1bln souvenir coffe break icip2 booklet resep bandung\n",
      " hell today realli sisterhood\n",
      " hahaha lamaa rt haha gue mikir dlu baca ini haha rt teh aja gapak galau dingin yaa\n",
      " teh aja gapak galau dingin yaa rt haha galau teh rt memang salahmu tak mencariku\n",
      " xp rt woo rt memang salahmu tak mencariku\n",
      " hingga dgn yang lain kau kumaafkan\n",
      " memang salahmu tak mencariku sepenuh hati kau kumaafkan\n",
      " foto gw lucu gak xp rt di kontak bbm ada 11 orang yg memasang foto babi jd profil\n",
      " gir mw usul gak pake kata saya aja gir aku kyk gmana gitu jadinya gak kebayang lw ngomong aku xp\n",
      " hee\n",
      " pasirnya edaaan gir rt pulau si pulau kosong yang menjual panorama super indah\n",
      " aarrrgghhh\n",
      " cieeee woohoo tipik anak skolahan rt tuh anak kela xi ngepain sih manggil manggil brisikk\n",
      " rt ada mhs tgk akhir smua jrs yg mau magang di kirim cv srt ktrg kampus ke\n",
      " damn really2 miss sisterhood\n",
      " iya tan aq berangkat jm nyamp jam setengah donk bukan\n",
      " bosan segera cabut dari tempat ini kyknya\n",
      " haha sakit apa mpal\n",
      " haaa keturunan bule donk rt kata dokter penyakit gw ini biasa diderita bule\n",
      " hussh jgn keras2 rt rt\n",
      " aq pe hihi rt dmn deeek bsk ngampus kn jm brp ikuut dk\n",
      " kereta api parah berangkat jm samp jam setengah adaada ajaaa\n",
      " bentr gw mandi eh ke dm aja dh wii\n",
      " dn gw jg ga pcya itu virus dek bm nybelin abiiii\n",
      " ol ym yak sblmnya twit gw dlu\n",
      " yaaw sarjana usma\n",
      " edaan cc rt weeee\n",
      " fuadi haha ampun ya gw salah satu oknumnya gara2 dkerjain senior gw yg tak bm bulet2 cc\n",
      " emang ni si bener ngerjain orangg\n",
      " hahaha yaya akupun bercandanya koo\n",
      " saya makan hr ini rt cokelat mengandung karbohidrat dan sangat tepat sbagai makanan ringan berenergi\n",
      " hahaha sombongnya kau anak muda\n",
      " emang lw ambil yg kemana ko ih uenaknya mahasiswa bisa jalan2\n",
      " hujan selalu jadi bahan tontonan disini\n",
      " hahaahaa geli ngikik liat pp nya pencot di buat yang punya ym dia bisa\n",
      " edan lama bener namanya juga promosi rt iyaa\n",
      " rt tapi belinya harus dari sekarang\n",
      " naik apa dek link nya donk\n",
      " dimanaa kapan samp kapan rt kapan lagi naik pesawat pp cuma 60ribu\n",
      " tu orang bikin penasaran aja arrgghh orang apa gukguk\n"
     ]
    }
   ],
   "source": [
    "def get_words(content):\n",
    "    ans = \"\"\n",
    "    for i in content:\n",
    "        try:\n",
    "            ans += \" \" + word_dict[i][:-1]\n",
    "        except: pass\n",
    "    return ans\n",
    "\n",
    "for tw in some_tweets:\n",
    "    print(get_words(tw['content']))"
   ]
  },
  {
   "cell_type": "code",
   "execution_count": 6,
   "metadata": {},
   "outputs": [
    {
     "data": {
      "text/plain": [
       "{'content': [1625760,\n",
       "  5553222,\n",
       "  2500655,\n",
       "  15207713,\n",
       "  5955763,\n",
       "  8389847,\n",
       "  18240579,\n",
       "  20504244],\n",
       " 'reply_to': '-1\\n',\n",
       " 'retweet_from': '-1\\n',\n",
       " 'time': 'Mon Feb 01 23:55:42 +0000 2010\\n',\n",
       " 'tweet_id': '8519608343\\n',\n",
       " 'user_app': 'via web\\n',\n",
       " 'username': 'Joes_face\\n'}"
      ]
     },
     "execution_count": 6,
     "metadata": {},
     "output_type": "execute_result"
    }
   ],
   "source": [
    "some_tweets[5]"
   ]
  },
  {
   "cell_type": "code",
   "execution_count": null,
   "metadata": {},
   "outputs": [],
   "source": [
    "%%time\n",
    "\n",
    "mat, words = read_matrix_pickle()\n",
    "del mat"
   ]
  },
  {
   "cell_type": "code",
   "execution_count": null,
   "metadata": {},
   "outputs": [],
   "source": [
    "len(words)"
   ]
  },
  {
   "cell_type": "code",
   "execution_count": null,
   "metadata": {},
   "outputs": [],
   "source": [
    "words[0]"
   ]
  },
  {
   "cell_type": "code",
   "execution_count": null,
   "metadata": {},
   "outputs": [],
   "source": [
    "sizes = [len(i.split('_')) for i in words]"
   ]
  },
  {
   "cell_type": "code",
   "execution_count": null,
   "metadata": {},
   "outputs": [],
   "source": [
    "set(sizes)"
   ]
  },
  {
   "cell_type": "code",
   "execution_count": null,
   "metadata": {},
   "outputs": [],
   "source": [
    "words_1 = [i.split('_')[0] for i in words]"
   ]
  },
  {
   "cell_type": "code",
   "execution_count": null,
   "metadata": {},
   "outputs": [],
   "source": [
    "len(words_1)"
   ]
  },
  {
   "cell_type": "code",
   "execution_count": null,
   "metadata": {},
   "outputs": [],
   "source": [
    "!ls ../datasets/twitter_dataset/"
   ]
  }
 ],
 "metadata": {
  "kernelspec": {
   "display_name": "Python 3",
   "language": "python",
   "name": "python3"
  },
  "language_info": {
   "codemirror_mode": {
    "name": "ipython",
    "version": 3
   },
   "file_extension": ".py",
   "mimetype": "text/x-python",
   "name": "python",
   "nbconvert_exporter": "python",
   "pygments_lexer": "ipython3",
   "version": "3.6.7"
  }
 },
 "nbformat": 4,
 "nbformat_minor": 2
}
