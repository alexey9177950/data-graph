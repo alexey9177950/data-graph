{
 "cells": [
  {
   "cell_type": "code",
   "execution_count": 1,
   "metadata": {},
   "outputs": [],
   "source": [
    "from tqdm import tqdm\n",
    "import numpy as np\n",
    "from pickle import dump\n",
    "from math import floor\n",
    "import matplotlib.pyplot as plt\n",
    "%matplotlib inline\n",
    "\n",
    "def read_tweet(f_desc):\n",
    "    ans = dict()\n",
    "    ans['username'] = f_desc.readline()\n",
    "    ans['tweet_id'] = f_desc.readline()\n",
    "    hours, minutes, seconds = map(int, f_desc.readline().split()[3].split(':'))\n",
    "    ans['time'] = hours / 24 + minutes / (60 * 24) + seconds / (60 * 60 * 24)\n",
    "    ans['user_app'] = f_desc.readline()\n",
    "    ans['is_retweet'] = (f_desc.readline() == '-1\\n')\n",
    "    ans['is_reply'] = (int(len(f_desc.readline().split('\\t'))) == 2)\n",
    "    ans['content_len'] = len(list(map(int, f_desc.readline().split())))\n",
    "    ans['n_links'] = int(f_desc.readline())\n",
    "    for i in range(ans['n_links']):\n",
    "        f_desc.readline()\n",
    "    f_desc.readline() # blank line\n",
    "    return ans\n",
    "\n",
    "\n",
    "def update(val, tweet):\n",
    "    val['time_hist'][floor(T_HIST_LEN * tweet['time'])] += 1\n",
    "    val['n_tweets'] += 1\n",
    "    if tweet['is_retweet'] >= 0:\n",
    "        val['n_retweets'] += 1\n",
    "    if tweet['is_reply']:\n",
    "        val['n_replies'] += 1\n",
    "    val['content_len'] += tweet['content_len']\n",
    "    val['n_links'] += tweet['n_links']\n",
    "    return val\n",
    "\n",
    "\n",
    "def default_val():\n",
    "    val = dict()\n",
    "    val['time_hist'] = np.zeros(T_HIST_LEN)\n",
    "    val['n_tweets'] = 0\n",
    "    val['n_retweets'] = 0\n",
    "    val['n_replies'] = 0\n",
    "    val['content_len'] = 0\n",
    "    val['n_links'] = 0\n",
    "    return val\n",
    "\n",
    "    \n",
    "def some_tweets(path='../datasets/tweet_result_0_.txt', n_tweets=1000):\n",
    "    f_desc = open(path)\n",
    "    ans = []\n",
    "    for i in range(n_tweets):\n",
    "        try:\n",
    "            ans.append(read_tweet(f_desc))                \n",
    "        except:\n",
    "            # end of file\n",
    "            break\n",
    "    return ans\n",
    "\n",
    "\n",
    "def parse_tweets(path='../datasets/tweet_result_0_.txt', tw_limit=10**18):\n",
    "    f_desc = open(path)\n",
    "    ans = dict()\n",
    "    for i in range(tw_limit): # переписать\n",
    "        try:\n",
    "            tweet = read_tweet(f_desc)\n",
    "            username = tweet['username']\n",
    "            if username not in ans:\n",
    "                ans[username] = default_val()\n",
    "            ans[username] = update(ans[username], tweet)\n",
    "        except:\n",
    "            break\n",
    "    return ans"
   ]
  },
  {
   "cell_type": "code",
   "execution_count": null,
   "metadata": {
    "scrolled": true
   },
   "outputs": [],
   "source": [
    "from time import time\n",
    "\n",
    "for i in range(0, 20):\n",
    "    print(i)\n",
    "    t_begin = time()\n",
    "    parsed = parse_tweets('../datasets/twitter_dataset/tweet_result_%d_.txt' % i)\n",
    "    dump(parsed, open('../tmp_files/tw_parsed_%d.pickle' % i, \"wb\"))\n",
    "    print(time() - t_begin)"
   ]
  },
  {
   "cell_type": "code",
   "execution_count": null,
   "metadata": {},
   "outputs": [],
   "source": [
    "%%time\n",
    "\n",
    "from pickle import load\n",
    "\n",
    "def merge(d_merged, d_new):\n",
    "    for i in d_new:\n",
    "        if i in d_merged:\n",
    "            for j in d_new[i]:\n",
    "                d_merged[i][j] += d_new[i][j]\n",
    "        else:\n",
    "            d_merged[i] = d_new[i]\n",
    "    return d_merged\n",
    "\n",
    "template = '../tmp_files/tw_parsed_%d.pickle'\n",
    "merged = load(open(template % 0, \"rb\"))\n",
    "for i in range(1, 20):\n",
    "    merged = merge(merged, load(open(template % i, \"rb\")))\n",
    "dump(merged, open(\"../tmp_files/tw_parsed_merged\", \"wb\"))"
   ]
  },
  {
   "cell_type": "code",
   "execution_count": 7,
   "metadata": {},
   "outputs": [],
   "source": [
    "from pickle import load\n",
    "merged = load(open('../tmp_files/tw_parsed_merged', \"rb\"))\n",
    "good_names = set(i.split()[1] + \"\\n\" for i in open(\"../datasets/twitter_dataset/user_map.txt\"))\n",
    "bad_keys = [i for i in merged.keys() if i not in good_names]\n",
    "for key in bad_keys:\n",
    "    merged.pop(key)\n",
    "dump(merged, open(\"../tmp_files/tw_parsed_merged_pruned\", \"wb\"))\n",
    "merged_keys = sorted(list(merged.keys()))\n",
    "dump(merged_keys, open(\"../tmp_files/tw_merged_keys\", \"wb\"))"
   ]
  },
  {
   "cell_type": "code",
   "execution_count": 8,
   "metadata": {},
   "outputs": [],
   "source": [
    "ROW_LEN = 8\n",
    "cols_std = (1, 1, 1, 1, 0.25, 0.25, 0.25, 0.25)\n",
    "\n",
    "def to_row(val):\n",
    "    ans = np.zeros(ROW_LEN)\n",
    "    ans[0] = val['content_len'] / val['n_tweets']\n",
    "    ans[1] = val['n_links'] / val['n_tweets']\n",
    "    ans[2] = val['n_replies'] / val['n_tweets']\n",
    "    ans[3] = val['n_tweets']\n",
    "    ans[4:8] = val['time_hist']\n",
    "    return ans\n",
    "    \n",
    "matrix = np.zeros((len(merged_keys), ROW_LEN))\n",
    "for num_row, i in enumerate(merged_keys):\n",
    "    matrix[num_row] = to_row(merged[i])\n",
    "for i, std in enumerate(cols_std):\n",
    "    matrix[:, i] /= matrix[:, i].std()\n",
    "    matrix[:, i] *= std\n",
    "\n",
    "matrix += np.random.randn(matrix.shape) * 1e-4\n",
    "with open(\"../datasets/tw_mat0\", \"w\") as f:\n",
    "    for row in matrix:\n",
    "        for elem in row:\n",
    "            print(\"%.8f\" % elem, end=' ', file=f)\n",
    "        print(file=f)"
   ]
  },
  {
   "cell_type": "code",
   "execution_count": 29,
   "metadata": {
    "scrolled": true
   },
   "outputs": [
    {
     "data": {
      "text/plain": [
       "(array([6.9034e+04, 1.9270e+04, 1.5110e+03, 2.6800e+02, 9.0000e+01,\n",
       "        6.4000e+01, 1.9000e+01, 1.5000e+01, 1.0000e+01, 1.0000e+01]),\n",
       " array([ 0. ,  1.1,  2.2,  3.3,  4.4,  5.5,  6.6,  7.7,  8.8,  9.9, 11. ]),\n",
       " <a list of 10 Patch objects>)"
      ]
     },
     "execution_count": 29,
     "metadata": {},
     "output_type": "execute_result"
    },
    {
     "data": {
      "image/png": "[encoded data removed]",
      "text/plain": [
       "<Figure size 432x288 with 1 Axes>"
      ]
     },
     "metadata": {},
     "output_type": "display_data"
    },
    {
     "data": {
      "image/png": "[encoded data removed]",
      "text/plain": [
       "<Figure size 432x288 with 1 Axes>"
      ]
     },
     "metadata": {},
     "output_type": "display_data"
    },
    {
     "data": {
      "image/png": "[encoded data removed]",
      "text/plain": [
       "<Figure size 432x288 with 1 Axes>"
      ]
     },
     "metadata": {},
     "output_type": "display_data"
    },
    {
     "data": {
      "image/png": "[encoded data removed]",
      "text/plain": [
       "<Figure size 432x288 with 1 Axes>"
      ]
     },
     "metadata": {},
     "output_type": "display_data"
    },
    {
     "data": {
      "image/png": "[encoded data removed]",
      "text/plain": [
       "<Figure size 432x288 with 1 Axes>"
      ]
     },
     "metadata": {},
     "output_type": "display_data"
    },
    {
     "data": {
      "image/png": "[encoded data removed]",
      "text/plain": [
       "<Figure size 432x288 with 1 Axes>"
      ]
     },
     "metadata": {},
     "output_type": "display_data"
    }
   ],
   "source": [
    "plt.title(\"content_len\")\n",
    "plt.hist([i['content_len'] for i in merged.values()])\n",
    "plt.figure()\n",
    "\n",
    "plt.title(\"n_tweets\")\n",
    "plt.hist([i['n_tweets'] for i in merged.values()])\n",
    "plt.figure()\n",
    "\n",
    "plt.title(\"mean_cont_len\")\n",
    "plt.hist([i['content_len'] / max(1, i['n_tweets']) for i in merged.values()])\n",
    "plt.figure()\n",
    "\n",
    "plt.title(\"mean_n_repl\")\n",
    "plt.hist([i['n_replies'] / max(1, i['n_tweets']) for i in merged.values()])\n",
    "plt.figure()\n",
    "\n",
    "plt.title(\"mean_n_retw\")\n",
    "plt.hist([i['n_retweets'] / max(1, i['n_tweets']) for i in merged.values()])\n",
    "plt.figure()\n",
    "\n",
    "plt.title(\"mean_n_links\")\n",
    "plt.hist([i['n_links'] / max(1, i['n_tweets']) for i in merged.values()])"
   ]
  },
  {
   "cell_type": "code",
   "execution_count": 6,
   "metadata": {},
   "outputs": [
    {
     "name": "stdout",
     "output_type": "stream",
     "text": [
      " 112416  112416 1150880 ../datasets/twitter_dataset/user_list.txt\n",
      " 112449  224898 2472989 ../datasets/twitter_dataset/user_map.txt\n",
      " 224865  337314 3623869 total\n"
     ]
    }
   ],
   "source": [
    "! wc ../datasets/twitter_dataset/user_list.txt ../datasets/twitter_dataset/user_map.txt"
   ]
  },
  {
   "cell_type": "code",
   "execution_count": 7,
   "metadata": {},
   "outputs": [
    {
     "name": "stdout",
     "output_type": "stream",
     "text": [
      "99988604 nicoleshara\r",
      "\r\n",
      "99994717 MichelleKat3\r",
      "\r\n",
      "99995380 jggamez\r",
      "\r\n",
      "99996375 Caio_Snake\r",
      "\r\n",
      "99997927 Demoxt\r",
      "\r\n"
     ]
    }
   ],
   "source": [
    "! tail -n 5 ../datasets/twitter_dataset/user_map.txt"
   ]
  }
 ],
 "metadata": {
  "kernelspec": {
   "display_name": "Python 3",
   "language": "python",
   "name": "python3"
  },
  "language_info": {
   "codemirror_mode": {
    "name": "ipython",
    "version": 3
   },
   "file_extension": ".py",
   "mimetype": "text/x-python",
   "name": "python",
   "nbconvert_exporter": "python",
   "pygments_lexer": "ipython3",
   "version": "3.6.7"
  }
 },
 "nbformat": 4,
 "nbformat_minor": 2
}
