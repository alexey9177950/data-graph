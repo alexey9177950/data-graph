{
 "cells": [
  {
   "cell_type": "code",
   "execution_count": 12,
   "metadata": {},
   "outputs": [],
   "source": [
    "import string\n",
    "import numpy as np\n",
    "import re\n",
    "from tqdm import tqdm\n",
    "import matplotlib.pyplot as plt\n",
    "import networkx as nx\n",
    "from collections import Counter\n",
    "import itertools\n",
    "import pickle\n",
    "\n",
    "%matplotlib inline"
   ]
  },
  {
   "cell_type": "code",
   "execution_count": 2,
   "metadata": {},
   "outputs": [
    {
     "name": "stderr",
     "output_type": "stream",
     "text": [
      "12500875it [02:35, 80485.85it/s] \n"
     ]
    }
   ],
   "source": [
    "fhr = open('../datasets/amazon-meta.txt', 'r', encoding='utf-8', errors='ignore')\n",
    "\n",
    "\n",
    "columns = ['Title', 'Categories', 'Group', 'SalesRank', 'TotalReviews', 'AvgRating']\n",
    "MetaData = dict(zip(columns, [[] for i in columns]))\n",
    "\n",
    "\n",
    "(Id, ASIN, Title, Categories, Group, Copurchased, SalesRank, TotalReviews, AvgRating, DegreeCentrality, ClusteringCoeff) = \\\n",
    "    (\"\", \"\", \"\", \"\", \"\", \"\", 0, 0, 0.0, 0, 0.0)\n",
    "for line in tqdm(fhr):\n",
    "    line = line.strip()\n",
    "    # a product block started\n",
    "    if(line.startswith(\"title\")):\n",
    "        Title = line[6:].strip()\n",
    "        Title = ' '.join(Title.split())\n",
    "    elif(line.startswith(\"group\")):\n",
    "        Group = line[6:].strip()\n",
    "    elif(line.startswith(\"salesrank\")):\n",
    "        SalesRank = line[10:].strip()\n",
    "    elif(line.startswith(\"categories\")):\n",
    "        ls = line.split()\n",
    "        Categories = ' '.join((fhr.readline()).lower() for i in range(int(ls[1].strip())))\n",
    "        Categories = re.compile('[%s]' % re.escape(string.digits+string.punctuation)).sub(' ', Categories)\n",
    "    elif(line.startswith(\"reviews\")):\n",
    "        ls = line.split()\n",
    "        TotalReviews = ls[2].strip()\n",
    "        AvgRating = ls[7].strip()\n",
    "    elif (line==\"\"):\n",
    "        try:\n",
    "            MetaData['Title'].append(Title)\n",
    "            MetaData['Categories'].append(' '.join(set(Categories.split())))\n",
    "            MetaData['Group'].append(Group)\n",
    "            MetaData['SalesRank'].append(int(SalesRank))\n",
    "            MetaData['TotalReviews'].append(int(TotalReviews))\n",
    "            MetaData['AvgRating'].append(float(AvgRating))\n",
    "        except NameError as err:\n",
    "            print(err)\n",
    "            continue\n",
    "        (Id, ASIN, Title, Categories, Group, Copurchased, SalesRank, TotalReviews, AvgRating, DegreeCentrality, ClusteringCoeff) = \\\n",
    "            (\"\", \"\", \"\", \"\", \"\", \"\", 0, 0, 0.0, 0, 0.0)\n",
    "fhr.close()"
   ]
  },
  {
   "cell_type": "code",
   "execution_count": 3,
   "metadata": {},
   "outputs": [],
   "source": [
    "import pandas as pd\n",
    "\n",
    "md_df = pd.DataFrame(MetaData)"
   ]
  },
  {
   "cell_type": "code",
   "execution_count": 4,
   "metadata": {},
   "outputs": [
    {
     "name": "stderr",
     "output_type": "stream",
     "text": [
      "100%|██████████| 548553/548553 [00:13<00:00, 40460.75it/s]\n"
     ]
    },
    {
     "data": {
      "text/plain": [
       "[('general', 448253),\n",
       " ('books', 376455),\n",
       " ('subjects', 370828),\n",
       " ('stores', 154287),\n",
       " ('music', 121204),\n",
       " ('s', 106862),\n",
       " ('styles', 102125),\n",
       " ('com', 96186),\n",
       " ('amazon', 96163),\n",
       " ('specialty', 83755),\n",
       " ('fiction', 78129),\n",
       " ('home', 65774),\n",
       " ('a', 64002),\n",
       " ('literature', 63486),\n",
       " ('nonfiction', 63358),\n",
       " ('categories', 59054),\n",
       " ('genres', 55691),\n",
       " ('science', 55409),\n",
       " ('z', 55291),\n",
       " ('history', 53605),\n",
       " ('children', 50776),\n",
       " ('reference', 47687),\n",
       " ('religion', 44810),\n",
       " ('spirituality', 44593),\n",
       " ('professional', 42907),\n",
       " ('technical', 42248),\n",
       " ('authors', 41466),\n",
       " ('special', 39059),\n",
       " ('health', 38256),\n",
       " ('travel', 37649),\n",
       " ('office', 36954),\n",
       " ('by', 36757),\n",
       " ('all', 36047),\n",
       " ('titles', 34863),\n",
       " ('rock', 34509),\n",
       " ('business', 34469),\n",
       " ('body', 34468),\n",
       " ('mind', 34452),\n",
       " ('sciences', 34027),\n",
       " ('indie', 33236),\n",
       " ('formats', 30438),\n",
       " ('arts', 29993),\n",
       " ('investing', 29580),\n",
       " ('in', 29482),\n",
       " ('outlet', 29345),\n",
       " ('international', 28688),\n",
       " ('deals', 28311),\n",
       " ('today', 28306),\n",
       " ('b', 28099),\n",
       " ('social', 27998),\n",
       " ('actors', 27997),\n",
       " ('actresses', 27987),\n",
       " ('pop', 27625),\n",
       " ('features', 27144),\n",
       " ('united', 27055),\n",
       " ('new', 26582),\n",
       " ('vhs', 25801),\n",
       " ('biographies', 25569),\n",
       " ('contemporary', 25488),\n",
       " ('christianity', 25441),\n",
       " ('states', 25329),\n",
       " ('entertainment', 24486),\n",
       " ('c', 23412),\n",
       " ('historical', 22723),\n",
       " ('for', 22390),\n",
       " ('mystery', 20872),\n",
       " ('ages', 20657),\n",
       " ('world', 20581),\n",
       " ('dvd', 20211),\n",
       " ('fantasy', 20038),\n",
       " ('m', 19974),\n",
       " ('series', 19966),\n",
       " ('r', 19584),\n",
       " ('alternative', 19470),\n",
       " ('garden', 19266),\n",
       " ('people', 19265),\n",
       " ('computers', 19258),\n",
       " ('internet', 19177),\n",
       " ('medicine', 18713),\n",
       " ('memoirs', 18571),\n",
       " ('directors', 17621),\n",
       " ('under', 17421),\n",
       " ('sports', 17411),\n",
       " ('photography', 17324),\n",
       " ('education', 17037),\n",
       " ('classical', 16435),\n",
       " ('family', 16087),\n",
       " ('art', 15850),\n",
       " ('h', 15403),\n",
       " ('classics', 15179),\n",
       " ('adventure', 15026),\n",
       " ('video', 14870),\n",
       " ('theory', 14795),\n",
       " ('places', 14565),\n",
       " ('europe', 14479),\n",
       " ('works', 14355),\n",
       " ('age', 14127),\n",
       " ('management', 13613),\n",
       " ('nature', 13609),\n",
       " ('dance', 13606)]"
      ]
     },
     "execution_count": 4,
     "metadata": {},
     "output_type": "execute_result"
    },
    {
     "data": {
      "image/png": "[encoded data removed]",
      "text/plain": [
       "<Figure size 432x288 with 1 Axes>"
      ]
     },
     "metadata": {},
     "output_type": "display_data"
    }
   ],
   "source": [
    "def cnt_cat():\n",
    "    ans = Counter()\n",
    "    for line in tqdm(md_df.Categories):\n",
    "        ans.update(line.split())\n",
    "    return ans\n",
    "\n",
    "def cnt_lens():\n",
    "    return [len(line.split()) for line in tqdm(md_df.Categories)]\n",
    "\n",
    "cnt = cnt_cat()\n",
    "vals = sorted(list(cnt.values()))[::-1]\n",
    "\n",
    "import numpy as np\n",
    "partial = np.cumsum(vals)[:50]\n",
    "plt.grid(True)\n",
    "plt.plot(partial)\n",
    "# home, children\n",
    "# science\n",
    "# religion, spirituality\n",
    "# типа дом и дети, науки, музыка и т.п., религиозная литература, ...\n",
    "\n",
    "cnt.most_common(100)"
   ]
  },
  {
   "cell_type": "code",
   "execution_count": 5,
   "metadata": {},
   "outputs": [
    {
     "data": {
      "text/plain": [
       "Book            393561\n",
       "Music           103144\n",
       "Video            26131\n",
       "DVD              19828\n",
       "                  5869\n",
       "Toy                  8\n",
       "Software             5\n",
       "CE                   4\n",
       "Sports               1\n",
       "Video Games          1\n",
       "Baby Product         1\n",
       "Name: Group, dtype: int64"
      ]
     },
     "execution_count": 5,
     "metadata": {},
     "output_type": "execute_result"
    }
   ],
   "source": [
    "md_df.Group.value_counts()"
   ]
  },
  {
   "cell_type": "code",
   "execution_count": 6,
   "metadata": {},
   "outputs": [
    {
     "data": {
      "text/plain": [
       "(array([313049., 119805.,  56721.,  27523.,  13101.,   7070.,   4426.,\n",
       "          2850.,   3248.,    760.]),\n",
       " array([-1.0000000e+00,  3.7983420e+05,  7.5966940e+05,  1.1395046e+06,\n",
       "         1.5193398e+06,  1.8991750e+06,  2.2790102e+06,  2.6588454e+06,\n",
       "         3.0386806e+06,  3.4185158e+06,  3.7983510e+06]),\n",
       " <a list of 10 Patch objects>)"
      ]
     },
     "execution_count": 6,
     "metadata": {},
     "output_type": "execute_result"
    },
    {
     "data": {
      "image/png": "[encoded data removed]",
      "text/plain": [
       "<Figure size 432x288 with 1 Axes>"
      ]
     },
     "metadata": {},
     "output_type": "display_data"
    }
   ],
   "source": [
    "import matplotlib.pyplot as plt\n",
    "%matplotlib inline\n",
    "plt.hist(md_df.SalesRank)"
   ]
  },
  {
   "cell_type": "code",
   "execution_count": 7,
   "metadata": {},
   "outputs": [
    {
     "data": {
      "text/plain": [
       "(array([6.37100e+03, 9.00000e+00, 1.06000e+02, 6.12000e+02, 3.14600e+03,\n",
       "        1.50980e+04, 5.90130e+04, 1.27225e+05, 2.35219e+05, 1.01754e+05]),\n",
       " array([ 0.        ,  1.51500781,  3.03001562,  4.54502343,  6.06003124,\n",
       "         7.57503905,  9.09004687, 10.60505468, 12.12006249, 13.6350703 ,\n",
       "        15.15007811]),\n",
       " <a list of 10 Patch objects>)"
      ]
     },
     "execution_count": 7,
     "metadata": {},
     "output_type": "execute_result"
    },
    {
     "data": {
      "image/png": "[encoded data removed]",
      "text/plain": [
       "<Figure size 432x288 with 1 Axes>"
      ]
     },
     "metadata": {},
     "output_type": "display_data"
    }
   ],
   "source": [
    "plt.hist(np.log(md_df.SalesRank + 2))"
   ]
  },
  {
   "cell_type": "code",
   "execution_count": 8,
   "metadata": {},
   "outputs": [
    {
     "data": {
      "text/plain": [
       "(array([2.26858e+05, 1.28288e+05, 9.94340e+04, 5.07940e+04, 2.45780e+04,\n",
       "        1.14080e+04, 4.97000e+03, 1.70800e+03, 4.28000e+02, 8.70000e+01]),\n",
       " array([0.        , 0.86208322, 1.72416645, 2.58624967, 3.44833289,\n",
       "        4.31041611, 5.17249934, 6.03458256, 6.89666578, 7.758749  ,\n",
       "        8.62083223]),\n",
       " <a list of 10 Patch objects>)"
      ]
     },
     "execution_count": 8,
     "metadata": {},
     "output_type": "execute_result"
    },
    {
     "data": {
      "image/png": "[encoded data removed]",
      "text/plain": [
       "<Figure size 432x288 with 1 Axes>"
      ]
     },
     "metadata": {},
     "output_type": "display_data"
    }
   ],
   "source": [
    "plt.hist(np.log(md_df.TotalReviews.values + 1))"
   ]
  },
  {
   "cell_type": "code",
   "execution_count": 9,
   "metadata": {},
   "outputs": [
    {
     "data": {
      "text/plain": [
       "(array([145818.,      0.,   2732.,    837.,   4117.,   6561.,  21227.,\n",
       "         34405.,  83458., 249398.]),\n",
       " array([0. , 0.5, 1. , 1.5, 2. , 2.5, 3. , 3.5, 4. , 4.5, 5. ]),\n",
       " <a list of 10 Patch objects>)"
      ]
     },
     "execution_count": 9,
     "metadata": {},
     "output_type": "execute_result"
    },
    {
     "data": {
      "image/png": "[encoded data removed]",
      "text/plain": [
       "<Figure size 432x288 with 1 Axes>"
      ]
     },
     "metadata": {},
     "output_type": "display_data"
    }
   ],
   "source": [
    "plt.hist(md_df.AvgRating)"
   ]
  },
  {
   "cell_type": "code",
   "execution_count": 10,
   "metadata": {},
   "outputs": [],
   "source": [
    "\"\"\"\n",
    "is_Book, is_Music, is_Video_or_DVD, np.log(SalesRank + 2), np.log(TotalReviews), AvgRating\n",
    "\"\"\"\n",
    "\n",
    "is_book = md_df.Group == 'Book'\n",
    "is_music = md_df.Group == 'Music'\n",
    "is_video = (md_df.Group == 'Video') | (md_df.Group == 'DVD')\n",
    "logrank = np.log(-md_df.SalesRank.min() + md_df.SalesRank + 1)\n",
    "logrev = np.log(-md_df.TotalReviews.min() + md_df.TotalReviews + 1)\n",
    "avg_rating = md_df.AvgRating"
   ]
  },
  {
   "cell_type": "code",
   "execution_count": 17,
   "metadata": {},
   "outputs": [
    {
     "data": {
      "text/plain": [
       "(548553, 10)"
      ]
     },
     "execution_count": 17,
     "metadata": {},
     "output_type": "execute_result"
    }
   ],
   "source": [
    "submatrix = pickle.load(open('../tmp_files/title_submatrix', \"rb\"))\n",
    "columns = [is_book, is_music, is_video, logrank, logrev, avg_rating]\n",
    "for i in range(submatrix.shape[1]):\n",
    "    columns.append(submatrix[:, i])\n",
    "matrix = np.vstack(columns).T\n",
    "matrix.shape"
   ]
  },
  {
   "cell_type": "code",
   "execution_count": 18,
   "metadata": {},
   "outputs": [],
   "source": [
    "mat_l = matrix[:, :6]\n",
    "mat_l = (mat_l - mat_l.mean(axis=0).reshape(1, -1)) / mat_l.std(axis=0).reshape(1, -1)\n",
    "mat_l += np.random.randn(*mat_l.shape) * 1e-4\n",
    "matrix[:, :6] = mat_l\n",
    "\n",
    "mat_r = matrix[:, 6:]\n",
    "mat_r = (mat_r - mat_r.mean(axis=0).reshape(1, -1)) # centered\n",
    "mat_r = mat_r / mat_r.std()\n",
    "matrix[:, 6:] = mat_r"
   ]
  },
  {
   "cell_type": "code",
   "execution_count": 25,
   "metadata": {},
   "outputs": [],
   "source": [
    "with open(\"../tmp_files/amazon_mat\", \"w\") as f:\n",
    "    for row in matrix:\n",
    "        for elem in row:\n",
    "            print(\"%.8f\" % elem, end=' ', file=f)\n",
    "        print(file=f)"
   ]
  }
 ],
 "metadata": {
  "kernelspec": {
   "display_name": "Python 3",
   "language": "python",
   "name": "python3"
  },
  "language_info": {
   "codemirror_mode": {
    "name": "ipython",
    "version": 3
   },
   "file_extension": ".py",
   "mimetype": "text/x-python",
   "name": "python",
   "nbconvert_exporter": "python",
   "pygments_lexer": "ipython3",
   "version": "3.6.7"
  }
 },
 "nbformat": 4,
 "nbformat_minor": 2
}
