{
 "cells": [
  {
   "cell_type": "code",
   "execution_count": 28,
   "metadata": {},
   "outputs": [],
   "source": [
    "import networkx as nx\n",
    "\n",
    "N_NODES = 15801\n",
    "def read_graph(path=\"../datasets/fb_dg_gabr\"):\n",
    "    graph = nx.Graph()\n",
    "    for i in range(N_NODES):\n",
    "        graph.add_node(i)\n",
    "    for v, line in enumerate(open(path)):\n",
    "        edges = map(int, line.split())\n",
    "        for u in edges:\n",
    "            graph.add_edge(v, u)\n",
    "    return graph\n",
    "\n",
    "graph = read_graph()"
   ]
  },
  {
   "cell_type": "code",
   "execution_count": 29,
   "metadata": {},
   "outputs": [
    {
     "data": {
      "text/plain": [
       "6.905955319283589"
      ]
     },
     "execution_count": 29,
     "metadata": {},
     "output_type": "execute_result"
    }
   ],
   "source": [
    "graph.number_of_edges() / graph.number_of_nodes()"
   ]
  }
 ],
 "metadata": {
  "kernelspec": {
   "display_name": "Python 3",
   "language": "python",
   "name": "python3"
  },
  "language_info": {
   "codemirror_mode": {
    "name": "ipython",
    "version": 3
   },
   "file_extension": ".py",
   "mimetype": "text/x-python",
   "name": "python",
   "nbconvert_exporter": "python",
   "pygments_lexer": "ipython3",
   "version": "3.6.7"
  }
 },
 "nbformat": 4,
 "nbformat_minor": 2
}
