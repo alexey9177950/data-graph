{
 "cells": [
  {
   "cell_type": "code",
   "execution_count": 5,
   "metadata": {},
   "outputs": [],
   "source": [
    "from utils import parse_6dfb\n",
    "from networkx.algorithms.community import greedy_modularity_communities"
   ]
  },
  {
   "cell_type": "code",
   "execution_count": 2,
   "metadata": {},
   "outputs": [],
   "source": [
    "graph = parse_6dfb()"
   ]
  },
  {
   "cell_type": "code",
   "execution_count": 6,
   "metadata": {},
   "outputs": [
    {
     "name": "stdout",
     "output_type": "stream",
     "text": [
      "CPU times: user 27min 54s, sys: 1.62 s, total: 27min 56s\n",
      "Wall time: 27min 59s\n"
     ]
    }
   ],
   "source": [
    "%%time\n",
    "\n",
    "com = list(greedy_modularity_communities(graph))"
   ]
  },
  {
   "cell_type": "code",
   "execution_count": 9,
   "metadata": {},
   "outputs": [
    {
     "data": {
      "text/plain": [
       "[6203, 4956, 1652, 17, 13, 11, 8, 7, 6, 5, 5, 4, 4, 4, 4, 4, 4, 4, 4, 4]"
      ]
     },
     "execution_count": 9,
     "metadata": {},
     "output_type": "execute_result"
    }
   ],
   "source": [
    "sizes = [len(i) for i in com]\n",
    "sorted(sizes)[::-1][:20]"
   ]
  },
  {
   "cell_type": "code",
   "execution_count": 11,
   "metadata": {},
   "outputs": [
    {
     "name": "stdout",
     "output_type": "stream",
     "text": [
      "CPU times: user 3h 43min 59s, sys: 15.2 s, total: 3h 44min 14s\n",
      "Wall time: 3h 45min 4s\n"
     ]
    }
   ],
   "source": [
    "%%time\n",
    "\n",
    "from utils import parse_twitter\n",
    "\n",
    "graph = parse_twitter()\n",
    "com = list(greedy_modularity_communities(graph))"
   ]
  },
  {
   "cell_type": "code",
   "execution_count": 13,
   "metadata": {},
   "outputs": [
    {
     "data": {
      "text/plain": [
       "[18072,\n",
       " 16976,\n",
       " 13405,\n",
       " 7085,\n",
       " 5362,\n",
       " 2071,\n",
       " 1714,\n",
       " 1592,\n",
       " 1570,\n",
       " 1022,\n",
       " 875,\n",
       " 863,\n",
       " 850,\n",
       " 822,\n",
       " 820,\n",
       " 795,\n",
       " 654,\n",
       " 459,\n",
       " 453,\n",
       " 441,\n",
       " 435,\n",
       " 404,\n",
       " 353,\n",
       " 341,\n",
       " 327,\n",
       " 322,\n",
       " 318,\n",
       " 309,\n",
       " 296,\n",
       " 272,\n",
       " 272,\n",
       " 263,\n",
       " 258,\n",
       " 253,\n",
       " 252,\n",
       " 250,\n",
       " 243,\n",
       " 241,\n",
       " 208,\n",
       " 199,\n",
       " 182,\n",
       " 164,\n",
       " 152,\n",
       " 146,\n",
       " 146,\n",
       " 127,\n",
       " 117,\n",
       " 113,\n",
       " 82,\n",
       " 68,\n",
       " 59,\n",
       " 57,\n",
       " 56,\n",
       " 53,\n",
       " 48,\n",
       " 47,\n",
       " 46,\n",
       " 46,\n",
       " 46,\n",
       " 44,\n",
       " 39,\n",
       " 38,\n",
       " 37,\n",
       " 36,\n",
       " 36,\n",
       " 36,\n",
       " 35,\n",
       " 35,\n",
       " 32,\n",
       " 30,\n",
       " 29,\n",
       " 29,\n",
       " 29,\n",
       " 28,\n",
       " 27,\n",
       " 26,\n",
       " 26,\n",
       " 25,\n",
       " 25,\n",
       " 25]"
      ]
     },
     "execution_count": 13,
     "metadata": {},
     "output_type": "execute_result"
    }
   ],
   "source": [
    "sizes = [len(i) for i in com]\n",
    "sorted(sizes)[::-1][:80]"
   ]
  }
 ],
 "metadata": {
  "kernelspec": {
   "display_name": "Python 3",
   "language": "python",
   "name": "python3"
  },
  "language_info": {
   "codemirror_mode": {
    "name": "ipython",
    "version": 3
   },
   "file_extension": ".py",
   "mimetype": "text/x-python",
   "name": "python",
   "nbconvert_exporter": "python",
   "pygments_lexer": "ipython3",
   "version": "3.6.7"
  }
 },
 "nbformat": 4,
 "nbformat_minor": 2
}
