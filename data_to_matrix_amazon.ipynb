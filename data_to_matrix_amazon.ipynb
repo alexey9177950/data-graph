{
 "cells": [
  {
   "cell_type": "code",
   "execution_count": 1,
   "metadata": {},
   "outputs": [],
   "source": [
    "import string\n",
    "import numpy as np\n",
    "import re\n",
    "import networkx\n",
    "from tqdm import tqdm\n",
    "import matplotlib.pyplot as plt\n",
    "import networkx as nx\n",
    "from collections import Counter\n",
    "import itertools"
   ]
  },
  {
   "cell_type": "code",
   "execution_count": 2,
   "metadata": {},
   "outputs": [
    {
     "name": "stderr",
     "output_type": "stream",
     "text": [
      "12500875it [02:28, 84425.84it/s] \n"
     ]
    }
   ],
   "source": [
    "fhr = open('amazon-meta.txt', 'r', encoding='utf-8', errors='ignore')\n",
    "\n",
    "\n",
    "columns = ['Title', 'Categories', 'Group', 'SalesRank', 'TotalReviews', 'AvgRating']\n",
    "MetaData = dict(zip(columns, [[] for i in columns]))\n",
    "\n",
    "\n",
    "(Id, ASIN, Title, Categories, Group, Copurchased, SalesRank, TotalReviews, AvgRating, DegreeCentrality, ClusteringCoeff) = \\\n",
    "    (\"\", \"\", \"\", \"\", \"\", \"\", 0, 0, 0.0, 0, 0.0)\n",
    "for line in tqdm(fhr):\n",
    "    line = line.strip()\n",
    "    # a product block started\n",
    "    if(line.startswith(\"title\")):\n",
    "        Title = line[6:].strip()\n",
    "        Title = ' '.join(Title.split())\n",
    "    elif(line.startswith(\"group\")):\n",
    "        Group = line[6:].strip()\n",
    "    elif(line.startswith(\"salesrank\")):\n",
    "        SalesRank = line[10:].strip()\n",
    "    elif(line.startswith(\"categories\")):\n",
    "        ls = line.split()\n",
    "        Categories = ' '.join((fhr.readline()).lower() for i in range(int(ls[1].strip())))\n",
    "        Categories = re.compile('[%s]' % re.escape(string.digits+string.punctuation)).sub(' ', Categories)\n",
    "    elif(line.startswith(\"reviews\")):\n",
    "        ls = line.split()\n",
    "        TotalReviews = ls[2].strip()\n",
    "        AvgRating = ls[7].strip()\n",
    "    elif (line==\"\"):\n",
    "        try:\n",
    "            MetaData['Title'].append(Title)\n",
    "            MetaData['Categories'].append(' '.join(set(Categories.split())))\n",
    "            MetaData['Group'].append(Group)\n",
    "            MetaData['SalesRank'].append(int(SalesRank))\n",
    "            MetaData['TotalReviews'].append(int(TotalReviews))\n",
    "            MetaData['AvgRating'].append(float(AvgRating))\n",
    "        except NameError as err:\n",
    "            print(err)\n",
    "            continue\n",
    "        (Id, ASIN, Title, Categories, Group, Copurchased, SalesRank, TotalReviews, AvgRating, DegreeCentrality, ClusteringCoeff) = \\\n",
    "            (\"\", \"\", \"\", \"\", \"\", \"\", 0, 0, 0.0, 0, 0.0)\n",
    "fhr.close()"
   ]
  },
  {
   "cell_type": "code",
   "execution_count": 3,
   "metadata": {},
   "outputs": [],
   "source": [
    "import pandas as pd\n",
    "\n",
    "md_df = pd.DataFrame(MetaData)"
   ]
  },
  {
   "cell_type": "code",
   "execution_count": 4,
   "metadata": {},
   "outputs": [
    {
     "data": {
      "text/plain": [
       "Index(['Title', 'Categories', 'Group', 'SalesRank', 'TotalReviews',\n",
       "       'AvgRating'],\n",
       "      dtype='object')"
      ]
     },
     "execution_count": 4,
     "metadata": {},
     "output_type": "execute_result"
    }
   ],
   "source": [
    "md_df.columns"
   ]
  },
  {
   "cell_type": "code",
   "execution_count": 5,
   "metadata": {},
   "outputs": [
    {
     "data": {
      "text/plain": [
       "                                                                                                                                                                       5869\n",
       "Live                                                                                                                                                                    113\n",
       "Best of                                                                                                                                                                 106\n",
       "Anthology                                                                                                                                                                85\n",
       "Ultimate Collection                                                                                                                                                      79\n",
       "Super Hits                                                                                                                                                               78\n",
       "Collection                                                                                                                                                               63\n",
       "Greatest Hits                                                                                                                                                            52\n",
       "Love Songs                                                                                                                                                               49\n",
       "Very Best of                                                                                                                                                             38\n",
       "The Ultimate Collection                                                                                                                                                  35\n",
       "16 Most Requested Songs                                                                                                                                                  33\n",
       "The Gift                                                                                                                                                                 28\n",
       "Lo Mejor de lo Mejor                                                                                                                                                     27\n",
       "Grandes Exitos                                                                                                                                                           27\n",
       "Golden Classics                                                                                                                                                          27\n",
       "Evolution                                                                                                                                                                26\n",
       "The Collection                                                                                                                                                           26\n",
       "Home                                                                                                                                                                     24\n",
       "In Concert                                                                                                                                                               24\n",
       "16 Biggest Hits                                                                                                                                                          23\n",
       "Selected Poems                                                                                                                                                           23\n",
       "Classic Masters                                                                                                                                                          22\n",
       "Definitive Collection                                                                                                                                                    21\n",
       "Out of the Blue                                                                                                                                                          19\n",
       "I Grandi Successi Originali                                                                                                                                              19\n",
       "Forever                                                                                                                                                                  19\n",
       "Singles                                                                                                                                                                  19\n",
       "Shine                                                                                                                                                                    18\n",
       "Revolution                                                                                                                                                               18\n",
       "                                                                                                                                                                       ... \n",
       "Sams Teach Yourself C++ in 21 Days, Third Edition                                                                                                                         1\n",
       "Food Combining: A Step-By-Step Guide (In a Nutshell)                                                                                                                      1\n",
       "Site Specific Art: Performance, Place and Documentation                                                                                                                   1\n",
       "The Foods and Wines of Spain                                                                                                                                              1\n",
       "Refrigeration and Air Conditioning (3rd Edition)                                                                                                                          1\n",
       "Food and Memories of Abruzzo: The Pastoral Land                                                                                                                           1\n",
       "My Nature Journal: A Personal Nature Guide for Young People                                                                                                               1\n",
       "Slot Smarts: Winning Strategies at the Slot Machine                                                                                                                       1\n",
       "Annapurna                                                                                                                                                                 1\n",
       "Overcoming Candida : The Ultimate Cookery Guide                                                                                                                           1\n",
       "Private Party                                                                                                                                                             1\n",
       "Playboy - 1995 Video Playmate Calendar                                                                                                                                    1\n",
       "Pele and the Rivers of Fire                                                                                                                                               1\n",
       "Blood Crime                                                                                                                                                               1\n",
       "The Sacred Collection : The Vocal Library (Vocal Library)                                                                                                                 1\n",
       "Landed                                                                                                                                                                    1\n",
       "The Psychology of Decision-Making : People in Organizations (Foundations for Organizational Science)                                                                      1\n",
       "Winning Through Intimidation                                                                                                                                              1\n",
       "Reasoning about Rational Agents (Intelligent Robotics and Autonomous Agents)                                                                                              1\n",
       "Spark Notes Anne of Green Gables                                                                                                                                          1\n",
       "Barenaked Ladies - Barelaked Nadies                                                                                                                                       1\n",
       "Disney and the Bible: A Scriptural Critique of the Magic Kingdom                                                                                                          1\n",
       "Constancia Y Otras Novelas Para Virgenes (Coleccion Tierra Firme)                                                                                                         1\n",
       "The Seventh Curse                                                                                                                                                         1\n",
       "Left Behind: The Kids (Live-Action Audio, Collection 1, Vols. 1-4)                                                                                                        1\n",
       "New Arrival [Sweden Bonus Tracks]                                                                                                                                         1\n",
       "Flesh, Fangs and Filigree                                                                                                                                                 1\n",
       "Summer Sounds Sensations                                                                                                                                                  1\n",
       "The Insider's Guide to Classical Recordings, From the Host of The Record Shelf, a Highly Opinionated, Irreverent, and Selective Guide to What's Good and What's Not       1\n",
       "Real-World Fitness : Fun and innovative ways to help you sneak in activity at home, at work and with the kids                                                             1\n",
       "Name: Title, Length: 499733, dtype: int64"
      ]
     },
     "execution_count": 5,
     "metadata": {},
     "output_type": "execute_result"
    }
   ],
   "source": [
    "md_df.Title.value_counts()"
   ]
  },
  {
   "cell_type": "code",
   "execution_count": 6,
   "metadata": {},
   "outputs": [
    {
     "data": {
      "text/plain": [
       "0                                                          \n",
       "1                                                          \n",
       "2         spirituality christianity books sermons religi...\n",
       "3         spirituality earth religions books witchcraft ...\n",
       "4         hobbies home books crafts general garden subjects\n",
       "5         sacred general other religion translations liv...\n",
       "6         spirituality christianity business books worsh...\n",
       "7         united books arts photo jewish nonfiction gene...\n",
       "8         jazz music specialty imports stores general st...\n",
       "9         lesbian criminology books s nonfiction general...\n",
       "10            cooking food books bread wine subjects baking\n",
       "11        politics anthropology books social nonfiction ...\n",
       "12        medicine medical specialty books holistic prof...\n",
       "13        loss general condiments fat cooking nutrition ...\n",
       "14        fantasy books general theory literature scienc...\n",
       "15         jazz music specialty indie stores general styles\n",
       "16        drama united authors books arts bogosian eric ...\n",
       "17        ii war books world general subjects history mi...\n",
       "18        office stores general economics hardware inves...\n",
       "19                                styles jazz music general\n",
       "20        teens children fantasy mystery books comics s ...\n",
       "21        medicine medical books professional general ra...\n",
       "22        fantasy lloyd doris today actors international...\n",
       "23        jazz music vocalists specialty vocal stores in...\n",
       "24        contemporary thrillers mystery books general l...\n",
       "25        authors formats general holmes broadcasting si...\n",
       "26        elections studies books s government nonfictio...\n",
       "27        tales ages children stories folk books s fairy...\n",
       "28        lesbian studies books social nonfiction genera...\n",
       "29        spirituality christianity books faith marriage...\n",
       "                                ...                        \n",
       "548523    interior home books design general decorating ...\n",
       "548524    true books nonfiction subjects mayhem murder a...\n",
       "548525       fantasy books general subjects fiction science\n",
       "548526    weddings catalogs home books arts photo genera...\n",
       "548527    otto today actors theme stores actresses gener...\n",
       "548528    ages children games sports books s general car...\n",
       "548529    travelogues books travel stores general essays...\n",
       "548530    teens spirituality religions children christia...\n",
       "548531             thrillers mystery books general subjects\n",
       "548532    religious spirituality christianity sacred mus...\n",
       "548533    thrillers mystery books general historical lit...\n",
       "548534    general asian religion artists reference desig...\n",
       "548535                     books subjects general reference\n",
       "548536           books general memoirs subjects biographies\n",
       "548537                      jazz music general styles swing\n",
       "548538    spirituality specialty books stores outlet bar...\n",
       "548539    children psychology specialty books stores non...\n",
       "548540    specialty nature books stores outlet bargain d...\n",
       "548541    children books s general literature subjects f...\n",
       "548542              books general body subjects mind health\n",
       "548543            business books general investing subjects\n",
       "548544    business labor books practical general guides ...\n",
       "548545    contemporary blues music specialty indie store...\n",
       "548546    music trance specialty indie stores general st...\n",
       "548547    office stores graphics excel internet com adob...\n",
       "548548    timothy today actors directors dvd general act...\n",
       "548549    independently titles animation comedy specialt...\n",
       "548550    spirituality christianity catholicism books so...\n",
       "548551    music under today deals concerts genres dvd ge...\n",
       "548552    nostalgia music miscellaneous vocalists vocal ...\n",
       "Name: Categories, Length: 548553, dtype: object"
      ]
     },
     "execution_count": 6,
     "metadata": {},
     "output_type": "execute_result"
    }
   ],
   "source": [
    "md_df.Categories"
   ]
  },
  {
   "cell_type": "code",
   "execution_count": 7,
   "metadata": {},
   "outputs": [
    {
     "data": {
      "text/plain": [
       "Book            393561\n",
       "Music           103144\n",
       "Video            26131\n",
       "DVD              19828\n",
       "                  5869\n",
       "Toy                  8\n",
       "Software             5\n",
       "CE                   4\n",
       "Video Games          1\n",
       "Sports               1\n",
       "Baby Product         1\n",
       "Name: Group, dtype: int64"
      ]
     },
     "execution_count": 7,
     "metadata": {},
     "output_type": "execute_result"
    }
   ],
   "source": [
    "md_df.Group.value_counts()"
   ]
  },
  {
   "cell_type": "code",
   "execution_count": 8,
   "metadata": {},
   "outputs": [
    {
     "data": {
      "text/plain": [
       "(array([313049., 119805.,  56721.,  27523.,  13101.,   7070.,   4426.,\n",
       "          2850.,   3248.,    760.]),\n",
       " array([-1.0000000e+00,  3.7983420e+05,  7.5966940e+05,  1.1395046e+06,\n",
       "         1.5193398e+06,  1.8991750e+06,  2.2790102e+06,  2.6588454e+06,\n",
       "         3.0386806e+06,  3.4185158e+06,  3.7983510e+06]),\n",
       " <a list of 10 Patch objects>)"
      ]
     },
     "execution_count": 8,
     "metadata": {},
     "output_type": "execute_result"
    },
    {
     "data": {
      "image/png": "[encoded data removed]",
      "text/plain": [
       "<Figure size 432x288 with 1 Axes>"
      ]
     },
     "metadata": {},
     "output_type": "display_data"
    }
   ],
   "source": [
    "import matplotlib.pyplot as plt\n",
    "%matplotlib inline\n",
    "plt.hist(md_df.SalesRank)"
   ]
  },
  {
   "cell_type": "code",
   "execution_count": 9,
   "metadata": {},
   "outputs": [
    {
     "data": {
      "text/plain": [
       "(array([6.37100e+03, 9.00000e+00, 1.06000e+02, 6.12000e+02, 3.14600e+03,\n",
       "        1.50980e+04, 5.90130e+04, 1.27225e+05, 2.35219e+05, 1.01754e+05]),\n",
       " array([ 0.        ,  1.51500781,  3.03001562,  4.54502343,  6.06003124,\n",
       "         7.57503905,  9.09004687, 10.60505468, 12.12006249, 13.6350703 ,\n",
       "        15.15007811]),\n",
       " <a list of 10 Patch objects>)"
      ]
     },
     "execution_count": 9,
     "metadata": {},
     "output_type": "execute_result"
    },
    {
     "data": {
      "image/png": "[encoded data removed]",
      "text/plain": [
       "<Figure size 432x288 with 1 Axes>"
      ]
     },
     "metadata": {},
     "output_type": "display_data"
    }
   ],
   "source": [
    "plt.hist(np.log(md_df.SalesRank + 2))"
   ]
  },
  {
   "cell_type": "code",
   "execution_count": 10,
   "metadata": {},
   "outputs": [
    {
     "data": {
      "text/plain": [
       "(array([2.26858e+05, 1.28288e+05, 9.94340e+04, 5.07940e+04, 2.45780e+04,\n",
       "        1.14080e+04, 4.97000e+03, 1.70800e+03, 4.28000e+02, 8.70000e+01]),\n",
       " array([0.        , 0.86208322, 1.72416645, 2.58624967, 3.44833289,\n",
       "        4.31041611, 5.17249934, 6.03458256, 6.89666578, 7.758749  ,\n",
       "        8.62083223]),\n",
       " <a list of 10 Patch objects>)"
      ]
     },
     "execution_count": 10,
     "metadata": {},
     "output_type": "execute_result"
    },
    {
     "data": {
      "image/png": "[encoded data removed]",
      "text/plain": [
       "<Figure size 432x288 with 1 Axes>"
      ]
     },
     "metadata": {},
     "output_type": "display_data"
    }
   ],
   "source": [
    "plt.hist(np.log(md_df.TotalReviews.values + 1))"
   ]
  },
  {
   "cell_type": "code",
   "execution_count": 11,
   "metadata": {},
   "outputs": [
    {
     "data": {
      "text/plain": [
       "(array([145818.,      0.,   2732.,    837.,   4117.,   6561.,  21227.,\n",
       "         34405.,  83458., 249398.]),\n",
       " array([0. , 0.5, 1. , 1.5, 2. , 2.5, 3. , 3.5, 4. , 4.5, 5. ]),\n",
       " <a list of 10 Patch objects>)"
      ]
     },
     "execution_count": 11,
     "metadata": {},
     "output_type": "execute_result"
    },
    {
     "data": {
      "image/png": "[encoded data removed]",
      "text/plain": [
       "<Figure size 432x288 with 1 Axes>"
      ]
     },
     "metadata": {},
     "output_type": "display_data"
    }
   ],
   "source": [
    "plt.hist(md_df.AvgRating)"
   ]
  },
  {
   "cell_type": "code",
   "execution_count": 12,
   "metadata": {},
   "outputs": [],
   "source": [
    "\"\"\"\n",
    "is_Book, is_Music, is_Video_or_DVD, np.log(SalesRank + 2), np.log(TotalReviews), AvgRating\n",
    "\"\"\"\n",
    "\n",
    "is_book = md_df.Group == 'Book'\n",
    "is_music = md_df.Group == 'Music'\n",
    "is_video = (md_df.Group == 'Video') | (md_df.Group == 'DVD')\n",
    "logrank = np.log(-md_df.SalesRank.min() + md_df.SalesRank + 1)\n",
    "logrev = np.log(-md_df.TotalReviews.min() + md_df.TotalReviews + 1)\n",
    "avg_rating = md_df.AvgRating"
   ]
  },
  {
   "cell_type": "code",
   "execution_count": 13,
   "metadata": {},
   "outputs": [
    {
     "data": {
      "text/plain": [
       "(548553, 6)"
      ]
     },
     "execution_count": 13,
     "metadata": {},
     "output_type": "execute_result"
    }
   ],
   "source": [
    "columns = (is_book, is_music, is_video, logrank, logrev, avg_rating)\n",
    "matrix = np.vstack(columns).T\n",
    "matrix.shape"
   ]
  },
  {
   "cell_type": "code",
   "execution_count": 14,
   "metadata": {},
   "outputs": [],
   "source": [
    "matrix = (matrix - matrix.mean(axis=0).reshape(1, -1)) / matrix.std(axis=0).reshape(1, -1)"
   ]
  },
  {
   "cell_type": "code",
   "execution_count": 15,
   "metadata": {},
   "outputs": [
    {
     "data": {
      "text/plain": [
       "(array([ 2.81858087e-17,  7.79254712e-17, -2.65278200e-17, -8.25678397e-16,\n",
       "         2.45382335e-16,  6.13455837e-17]), array([1., 1., 1., 1., 1., 1.]))"
      ]
     },
     "execution_count": 15,
     "metadata": {},
     "output_type": "execute_result"
    }
   ],
   "source": [
    "matrix.mean(axis=0), matrix.std(axis=0)"
   ]
  },
  {
   "cell_type": "code",
   "execution_count": 16,
   "metadata": {},
   "outputs": [],
   "source": [
    "matrix += np.random.randn(*matrix.shape) * 1e-4"
   ]
  },
  {
   "cell_type": "code",
   "execution_count": 17,
   "metadata": {},
   "outputs": [],
   "source": [
    "with open(\"metadata/amazon\", \"w\") as f:\n",
    "    for row in matrix:\n",
    "        for elem in row:\n",
    "            print(\"%.8f\" % elem, end=' ', file=f)\n",
    "        print(file=f)"
   ]
  }
 ],
 "metadata": {
  "kernelspec": {
   "display_name": "Python 3",
   "language": "python",
   "name": "python3"
  },
  "language_info": {
   "codemirror_mode": {
    "name": "ipython",
    "version": 3
   },
   "file_extension": ".py",
   "mimetype": "text/x-python",
   "name": "python",
   "nbconvert_exporter": "python",
   "pygments_lexer": "ipython3",
   "version": "3.6.7"
  }
 },
 "nbformat": 4,
 "nbformat_minor": 2
}
